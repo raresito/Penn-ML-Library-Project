{
 "cells": [
  {
   "cell_type": "markdown",
   "metadata": {
    "slideshow": {
     "slide_type": "slide"
    }
   },
   "source": [
    "# Adult Data Set Analisys"
   ]
  },
  {
   "cell_type": "markdown",
   "metadata": {},
   "source": [
    "## Abstract\n",
    "**About this Dataset**\n",
    "US Adult Census is a database containing data relating income to social factors such as Age, Education, race etc.\n",
    "\n",
    "The Us Adult income dataset was extracted by Barry Becker from the 1994 US Census Database. The data set consists of anonymous information such as occupation, age, native country, race, capital gain, capital loss, education, work class and more. Each row is labelled as either having a salary greater than \">50K\" or \"<=50K\".\n",
    "\n",
    "The goal here is to train a binary classifier on the training dataset to predict the column '__target__' which has two possible values \">50K\" and \"<=50K\" and evaluate the accuracy of the classifier with the test dataset.\n",
    "\n",
    "This Dataset was obtained from the UCI repository, it can be found on\n",
    "\n",
    "https://archive.ics.uci.edu/ml/datasets/census+income, http://mlr.cs.umass.edu/ml/machine-learning-databases/adult/"
   ]
  },
  {
   "cell_type": "markdown",
   "metadata": {
    "slideshow": {
     "slide_type": "fragment"
    }
   },
   "source": [
    "## What are we going to use ?"
   ]
  },
  {
   "cell_type": "code",
   "execution_count": null,
   "metadata": {
    "slideshow": {
     "slide_type": "slide"
    }
   },
   "outputs": [],
   "source": [
    "# Data structures\n",
    "import random\n",
    "import numpy as np\n",
    "import pandas as pd\n",
    "\n",
    "# Tools to better model the data\n",
    "from sklearn.model_selection import train_test_split\n",
    "from sklearn.preprocessing import QuantileTransformer\n",
    "\n",
    "# Machine Learning Algorithms\n",
    "from sklearn.tree import DecisionTreeClassifier\n",
    "from sklearn.svm import SVC\n",
    "from sklearn.linear_model import LogisticRegression\n",
    "\n",
    "# Metrics and data visualization tools\n",
    "from sklearn.metrics import accuracy_score, roc_auc_score, f1_score\n",
    "import matplotlib.pyplot as plt\n",
    "from pandas.plotting import scatter_matrix\n",
    "from scipy.stats import pointbiserialr, spearmanr\n",
    "import seaborn as sns\n",
    "\n",
    "# %load "
   ]
  },
  {
   "cell_type": "code",
   "execution_count": null,
   "metadata": {
    "slideshow": {
     "slide_type": "skip"
    }
   },
   "outputs": [],
   "source": [
    "adult_data_frame = pd.read_csv(\"./input/adult.csv\")"
   ]
  },
  {
   "cell_type": "markdown",
   "metadata": {},
   "source": [
    "## Let's look at the data."
   ]
  },
  {
   "cell_type": "code",
   "execution_count": 3,
   "metadata": {},
   "outputs": [
    {
     "name": "stdout",
     "output_type": "stream",
     "text": [
      "   age  workclass  fnlwgt     education  educational-num      marital-status  \\\n",
      "0   25    Private  226802          11th                7       Never-married   \n",
      "1   38    Private   89814       HS-grad                9  Married-civ-spouse   \n",
      "2   28  Local-gov  336951    Assoc-acdm               12  Married-civ-spouse   \n",
      "3   44    Private  160323  Some-college               10  Married-civ-spouse   \n",
      "4   18          ?  103497  Some-college               10       Never-married   \n",
      "\n",
      "          occupation relationship   race  gender  capital-gain  capital-loss  \\\n",
      "0  Machine-op-inspct    Own-child  Black    Male             0             0   \n",
      "1    Farming-fishing      Husband  White    Male             0             0   \n",
      "2    Protective-serv      Husband  White    Male             0             0   \n",
      "3  Machine-op-inspct      Husband  Black    Male          7688             0   \n",
      "4                  ?    Own-child  White  Female             0             0   \n",
      "\n",
      "   hours-per-week native-country income  \n",
      "0              40  United-States  <=50K  \n",
      "1              50  United-States  <=50K  \n",
      "2              40  United-States   >50K  \n",
      "3              40  United-States   >50K  \n",
      "4              30  United-States  <=50K  \n"
     ]
    }
   ],
   "source": [
    "print(adult_data_frame.head())"
   ]
  },
  {
   "cell_type": "markdown",
   "metadata": {},
   "source": [
    "Data presented, with all if it's fetures. Some observations:\n",
    "1. fnlwgt is a highly dispersive. This is a feature that is used to show the relevance of the individual in it's country. \"How common is this type of adult in his country\". We will leave this feature out of our analysis. \n",
    "\n",
    "2. Some of the values are non-numerical and they will be needed to be converted."
   ]
  },
  {
   "cell_type": "markdown",
   "metadata": {},
   "source": [
    "We'll start converting the features from strings to some sort of integer representation.\n",
    "* For income we'll use a binary value to classify adults with over and under 50k income.\n",
    "* For gender we'll use a binary value."
   ]
  },
  {
   "cell_type": "code",
   "execution_count": 4,
   "metadata": {},
   "outputs": [],
   "source": [
    "adult_data_frame['income'] = adult_data_frame['income'].map({'<=50K':1, '>50K':0}).astype(int)\n",
    "adult_data_frame['gender'] = adult_data_frame['gender'].map({'Male':1,'Female':0}).astype(int)"
   ]
  },
  {
   "cell_type": "markdown",
   "metadata": {},
   "source": [
    "For some of the features we'll look at their correlation. Maybe we can extract some information."
   ]
  },
  {
   "cell_type": "code",
   "execution_count": 5,
   "metadata": {},
   "outputs": [
    {
     "name": "stdout",
     "output_type": "stream",
     "text": [
      "                              income\n",
      "native-country                      \n",
      "Holand-Netherlands          1.000000\n",
      "Guatemala                   0.965909\n",
      "Outlying-US(Guam-USVI-etc)  0.956522\n",
      "Columbia                    0.952941\n",
      "Dominican-Republic          0.951456\n",
      "Mexico                      0.950578\n",
      "Nicaragua                   0.938776\n",
      "El-Salvador                 0.929032\n",
      "Trinadad&Tobago             0.925926\n",
      "Vietnam                     0.918605\n",
      "Peru                        0.913043\n",
      "Laos                        0.913043\n",
      "Honduras                    0.900000\n",
      "Puerto-Rico                 0.891304\n",
      "Haiti                       0.880000\n",
      "Ecuador                     0.866667\n",
      "Jamaica                     0.858491\n",
      "Scotland                    0.857143\n",
      "Thailand                    0.833333\n",
      "South                       0.826087\n",
      "Portugal                    0.820896\n",
      "Poland                      0.804598\n",
      "United-States               0.756023\n",
      "Cuba                        0.753623\n",
      "?                           0.743291\n",
      "Hong                        0.733333\n",
      "Germany                     0.718447\n",
      "Philippines                 0.711864\n",
      "China                       0.704918\n",
      "Ireland                     0.702703\n",
      "Hungary                     0.684211\n",
      "Cambodia                    0.678571\n",
      "Italy                       0.676190\n",
      "Canada                      0.653846\n",
      "Japan                       0.652174\n",
      "Yugoslavia                  0.652174\n",
      "Greece                      0.632653\n",
      "England                     0.629921\n",
      "Iran                        0.627119\n",
      "Taiwan                      0.600000\n",
      "India                       0.589404\n",
      "France                      0.578947\n"
     ]
    }
   ],
   "source": [
    "print (adult_data_frame[['native-country','income']].groupby(['native-country']).mean().sort_values(by=['income'], ascending=False))"
   ]
  },
  {
   "cell_type": "code",
   "execution_count": 6,
   "metadata": {},
   "outputs": [
    {
     "name": "stdout",
     "output_type": "stream",
     "text": [
      "                         income\n",
      "native-country                 \n",
      "South&Central-America  0.894737\n",
      "North-America          0.759825\n",
      "?                      0.743291\n",
      "Asia                   0.713504\n",
      "Europe                 0.705128\n"
     ]
    }
   ],
   "source": [
    "adult_data_frame['native-country'] = adult_data_frame['native-country'].replace(['France', 'England', 'Greece', 'Yugoslavia', 'Italy', 'Hungary', 'Ireland', 'Germany', 'Poland', 'Portugal', 'Scotland', 'Holand-Netherlands'], 'Europe')\n",
    "adult_data_frame['native-country'] = adult_data_frame['native-country'].replace(['India', 'Taiwan', 'Iran', 'Japan', 'Cambodia', 'China', 'Philippines', 'Hong', 'South', 'Thailand','Laos', 'Vietnam'], 'Asia')\n",
    "adult_data_frame['native-country'] = adult_data_frame['native-country'].replace(['Canada', 'Mexico', 'United-States', 'Outlying-US(Guam-USVI-etc)'], 'North-America')\n",
    "adult_data_frame['native-country'] = adult_data_frame['native-country'].replace(['Cuba', 'Jamaica', 'Ecuador', 'Haiti', 'Puerto-Rico', 'Honduras', 'Peru', 'Trinadad&Tobago', 'El-Salvador', 'Nicaragua', 'Dominican-Republic', 'Columbia', 'Guatemala'], 'South&Central-America')\n",
    "print (adult_data_frame[['native-country','income']].groupby(['native-country']).mean().sort_values(by=['income'], ascending=False))"
   ]
  },
  {
   "cell_type": "markdown",
   "metadata": {},
   "source": [
    "We observe that there is some disparaty between the continents, and we choose to use it as a more powerfull and efficient feature than country.\n",
    "\n",
    "I will also remove the mistaken data marked as ?"
   ]
  },
  {
   "cell_type": "code",
   "execution_count": 7,
   "metadata": {},
   "outputs": [
    {
     "name": "stdout",
     "output_type": "stream",
     "text": [
      "(48842, 15)\n",
      "(45222, 15)\n"
     ]
    }
   ],
   "source": [
    "print(adult_data_frame.shape)\n",
    "adult_data_frame['native-country'] = adult_data_frame['native-country'].replace('?',np.nan)\n",
    "adult_data_frame['workclass'] = adult_data_frame['workclass'].replace('?',np.nan)\n",
    "adult_data_frame['occupation'] = adult_data_frame['occupation'].replace('?',np.nan)\n",
    "\n",
    "adult_data_frame.dropna(how='any',inplace=True)\n",
    "print (adult_data_frame.shape)"
   ]
  },
  {
   "cell_type": "code",
   "execution_count": 8,
   "metadata": {},
   "outputs": [
    {
     "data": {
      "text/html": [
       "<div>\n",
       "<style scoped>\n",
       "    .dataframe tbody tr th:only-of-type {\n",
       "        vertical-align: middle;\n",
       "    }\n",
       "\n",
       "    .dataframe tbody tr th {\n",
       "        vertical-align: top;\n",
       "    }\n",
       "\n",
       "    .dataframe thead th {\n",
       "        text-align: right;\n",
       "    }\n",
       "</style>\n",
       "<table border=\"1\" class=\"dataframe\">\n",
       "  <thead>\n",
       "    <tr style=\"text-align: right;\">\n",
       "      <th></th>\n",
       "      <th>income</th>\n",
       "    </tr>\n",
       "    <tr>\n",
       "      <th>workclass</th>\n",
       "      <th></th>\n",
       "    </tr>\n",
       "  </thead>\n",
       "  <tbody>\n",
       "    <tr>\n",
       "      <th>Federal-gov</th>\n",
       "      <td>0.609531</td>\n",
       "    </tr>\n",
       "    <tr>\n",
       "      <th>Local-gov</th>\n",
       "      <td>0.704839</td>\n",
       "    </tr>\n",
       "    <tr>\n",
       "      <th>Private</th>\n",
       "      <td>0.782298</td>\n",
       "    </tr>\n",
       "    <tr>\n",
       "      <th>Self-emp-inc</th>\n",
       "      <td>0.445930</td>\n",
       "    </tr>\n",
       "    <tr>\n",
       "      <th>Self-emp-not-inc</th>\n",
       "      <td>0.721022</td>\n",
       "    </tr>\n",
       "    <tr>\n",
       "      <th>State-gov</th>\n",
       "      <td>0.732785</td>\n",
       "    </tr>\n",
       "    <tr>\n",
       "      <th>Without-pay</th>\n",
       "      <td>0.904762</td>\n",
       "    </tr>\n",
       "  </tbody>\n",
       "</table>\n",
       "</div>"
      ],
      "text/plain": [
       "                    income\n",
       "workclass                 \n",
       "Federal-gov       0.609531\n",
       "Local-gov         0.704839\n",
       "Private           0.782298\n",
       "Self-emp-inc      0.445930\n",
       "Self-emp-not-inc  0.721022\n",
       "State-gov         0.732785\n",
       "Without-pay       0.904762"
      ]
     },
     "execution_count": 8,
     "metadata": {},
     "output_type": "execute_result"
    }
   ],
   "source": [
    "adult_data_frame[['workclass','income']].groupby(['workclass']).mean()"
   ]
  },
  {
   "cell_type": "markdown",
   "metadata": {},
   "source": [
    "We could organize this data bettter, for example into: Private, and Public sectors, but we don't expect a great improvement from it. We are only going to change some of the features that prove a significant disparaty."
   ]
  },
  {
   "cell_type": "code",
   "execution_count": 9,
   "metadata": {
    "scrolled": false
   },
   "outputs": [
    {
     "data": {
      "text/html": [
       "<div>\n",
       "<style scoped>\n",
       "    .dataframe tbody tr th:only-of-type {\n",
       "        vertical-align: middle;\n",
       "    }\n",
       "\n",
       "    .dataframe tbody tr th {\n",
       "        vertical-align: top;\n",
       "    }\n",
       "\n",
       "    .dataframe thead th {\n",
       "        text-align: right;\n",
       "    }\n",
       "</style>\n",
       "<table border=\"1\" class=\"dataframe\">\n",
       "  <thead>\n",
       "    <tr style=\"text-align: right;\">\n",
       "      <th></th>\n",
       "      <th>age</th>\n",
       "      <th>fnlwgt</th>\n",
       "      <th>educational-num</th>\n",
       "      <th>gender</th>\n",
       "      <th>capital-gain</th>\n",
       "      <th>capital-loss</th>\n",
       "      <th>hours-per-week</th>\n",
       "      <th>income</th>\n",
       "    </tr>\n",
       "  </thead>\n",
       "  <tbody>\n",
       "    <tr>\n",
       "      <th>count</th>\n",
       "      <td>45222.000000</td>\n",
       "      <td>4.522200e+04</td>\n",
       "      <td>45222.000000</td>\n",
       "      <td>45222.000000</td>\n",
       "      <td>45222.000000</td>\n",
       "      <td>45222.000000</td>\n",
       "      <td>45222.000000</td>\n",
       "      <td>45222.000000</td>\n",
       "    </tr>\n",
       "    <tr>\n",
       "      <th>mean</th>\n",
       "      <td>38.547941</td>\n",
       "      <td>1.897347e+05</td>\n",
       "      <td>10.118460</td>\n",
       "      <td>0.675048</td>\n",
       "      <td>1101.430344</td>\n",
       "      <td>88.595418</td>\n",
       "      <td>40.938017</td>\n",
       "      <td>0.752156</td>\n",
       "    </tr>\n",
       "    <tr>\n",
       "      <th>std</th>\n",
       "      <td>13.217870</td>\n",
       "      <td>1.056392e+05</td>\n",
       "      <td>2.552881</td>\n",
       "      <td>0.468362</td>\n",
       "      <td>7506.430084</td>\n",
       "      <td>404.956092</td>\n",
       "      <td>12.007508</td>\n",
       "      <td>0.431766</td>\n",
       "    </tr>\n",
       "    <tr>\n",
       "      <th>min</th>\n",
       "      <td>17.000000</td>\n",
       "      <td>1.349200e+04</td>\n",
       "      <td>1.000000</td>\n",
       "      <td>0.000000</td>\n",
       "      <td>0.000000</td>\n",
       "      <td>0.000000</td>\n",
       "      <td>1.000000</td>\n",
       "      <td>0.000000</td>\n",
       "    </tr>\n",
       "    <tr>\n",
       "      <th>25%</th>\n",
       "      <td>28.000000</td>\n",
       "      <td>1.173882e+05</td>\n",
       "      <td>9.000000</td>\n",
       "      <td>0.000000</td>\n",
       "      <td>0.000000</td>\n",
       "      <td>0.000000</td>\n",
       "      <td>40.000000</td>\n",
       "      <td>1.000000</td>\n",
       "    </tr>\n",
       "    <tr>\n",
       "      <th>50%</th>\n",
       "      <td>37.000000</td>\n",
       "      <td>1.783160e+05</td>\n",
       "      <td>10.000000</td>\n",
       "      <td>1.000000</td>\n",
       "      <td>0.000000</td>\n",
       "      <td>0.000000</td>\n",
       "      <td>40.000000</td>\n",
       "      <td>1.000000</td>\n",
       "    </tr>\n",
       "    <tr>\n",
       "      <th>75%</th>\n",
       "      <td>47.000000</td>\n",
       "      <td>2.379260e+05</td>\n",
       "      <td>13.000000</td>\n",
       "      <td>1.000000</td>\n",
       "      <td>0.000000</td>\n",
       "      <td>0.000000</td>\n",
       "      <td>45.000000</td>\n",
       "      <td>1.000000</td>\n",
       "    </tr>\n",
       "    <tr>\n",
       "      <th>max</th>\n",
       "      <td>90.000000</td>\n",
       "      <td>1.490400e+06</td>\n",
       "      <td>16.000000</td>\n",
       "      <td>1.000000</td>\n",
       "      <td>99999.000000</td>\n",
       "      <td>4356.000000</td>\n",
       "      <td>99.000000</td>\n",
       "      <td>1.000000</td>\n",
       "    </tr>\n",
       "  </tbody>\n",
       "</table>\n",
       "</div>"
      ],
      "text/plain": [
       "                age        fnlwgt  educational-num        gender  \\\n",
       "count  45222.000000  4.522200e+04     45222.000000  45222.000000   \n",
       "mean      38.547941  1.897347e+05        10.118460      0.675048   \n",
       "std       13.217870  1.056392e+05         2.552881      0.468362   \n",
       "min       17.000000  1.349200e+04         1.000000      0.000000   \n",
       "25%       28.000000  1.173882e+05         9.000000      0.000000   \n",
       "50%       37.000000  1.783160e+05        10.000000      1.000000   \n",
       "75%       47.000000  2.379260e+05        13.000000      1.000000   \n",
       "max       90.000000  1.490400e+06        16.000000      1.000000   \n",
       "\n",
       "       capital-gain  capital-loss  hours-per-week        income  \n",
       "count  45222.000000  45222.000000    45222.000000  45222.000000  \n",
       "mean    1101.430344     88.595418       40.938017      0.752156  \n",
       "std     7506.430084    404.956092       12.007508      0.431766  \n",
       "min        0.000000      0.000000        1.000000      0.000000  \n",
       "25%        0.000000      0.000000       40.000000      1.000000  \n",
       "50%        0.000000      0.000000       40.000000      1.000000  \n",
       "75%        0.000000      0.000000       45.000000      1.000000  \n",
       "max    99999.000000   4356.000000       99.000000      1.000000  "
      ]
     },
     "execution_count": 9,
     "metadata": {},
     "output_type": "execute_result"
    }
   ],
   "source": [
    "adult_data_frame.describe()"
   ]
  },
  {
   "cell_type": "markdown",
   "metadata": {},
   "source": [
    "In the following table we are able to see the influence that the relationship status has on the targeted outcome. On the original dataset, the outliers, 0 and 9 are 'Husbands' and 'Wifes', therefore, couples, while the rest of the labels are 'Divorced' ,'Married-spouse-absent' ,'Never-married' ,'Separated', 'Widowed'.\n",
    "\n",
    "Given the obvious difference between the Singles and Couples, we are going to alter the column so that we will only have the 'Single' and 'Couple' labels."
   ]
  },
  {
   "cell_type": "code",
   "execution_count": 10,
   "metadata": {},
   "outputs": [
    {
     "data": {
      "text/html": [
       "<div>\n",
       "<style scoped>\n",
       "    .dataframe tbody tr th:only-of-type {\n",
       "        vertical-align: middle;\n",
       "    }\n",
       "\n",
       "    .dataframe tbody tr th {\n",
       "        vertical-align: top;\n",
       "    }\n",
       "\n",
       "    .dataframe thead th {\n",
       "        text-align: right;\n",
       "    }\n",
       "</style>\n",
       "<table border=\"1\" class=\"dataframe\">\n",
       "  <thead>\n",
       "    <tr style=\"text-align: right;\">\n",
       "      <th></th>\n",
       "      <th>income</th>\n",
       "    </tr>\n",
       "    <tr>\n",
       "      <th>relationship</th>\n",
       "      <th></th>\n",
       "    </tr>\n",
       "  </thead>\n",
       "  <tbody>\n",
       "    <tr>\n",
       "      <th>Husband</th>\n",
       "      <td>0.544252</td>\n",
       "    </tr>\n",
       "    <tr>\n",
       "      <th>Not-in-family</th>\n",
       "      <td>0.895061</td>\n",
       "    </tr>\n",
       "    <tr>\n",
       "      <th>Other-relative</th>\n",
       "      <td>0.962936</td>\n",
       "    </tr>\n",
       "    <tr>\n",
       "      <th>Own-child</th>\n",
       "      <td>0.984153</td>\n",
       "    </tr>\n",
       "    <tr>\n",
       "      <th>Unmarried</th>\n",
       "      <td>0.936926</td>\n",
       "    </tr>\n",
       "    <tr>\n",
       "      <th>Wife</th>\n",
       "      <td>0.514108</td>\n",
       "    </tr>\n",
       "  </tbody>\n",
       "</table>\n",
       "</div>"
      ],
      "text/plain": [
       "                  income\n",
       "relationship            \n",
       "Husband         0.544252\n",
       "Not-in-family   0.895061\n",
       "Other-relative  0.962936\n",
       "Own-child       0.984153\n",
       "Unmarried       0.936926\n",
       "Wife            0.514108"
      ]
     },
     "execution_count": 10,
     "metadata": {},
     "output_type": "execute_result"
    }
   ],
   "source": [
    "adult_data_frame[['relationship','income']].groupby(['relationship']).mean()"
   ]
  },
  {
   "cell_type": "code",
   "execution_count": 11,
   "metadata": {},
   "outputs": [
    {
     "data": {
      "text/html": [
       "<div>\n",
       "<style scoped>\n",
       "    .dataframe tbody tr th:only-of-type {\n",
       "        vertical-align: middle;\n",
       "    }\n",
       "\n",
       "    .dataframe tbody tr th {\n",
       "        vertical-align: top;\n",
       "    }\n",
       "\n",
       "    .dataframe thead th {\n",
       "        text-align: right;\n",
       "    }\n",
       "</style>\n",
       "<table border=\"1\" class=\"dataframe\">\n",
       "  <thead>\n",
       "    <tr style=\"text-align: right;\">\n",
       "      <th></th>\n",
       "      <th>income</th>\n",
       "    </tr>\n",
       "    <tr>\n",
       "      <th>marital-status</th>\n",
       "      <th></th>\n",
       "    </tr>\n",
       "  </thead>\n",
       "  <tbody>\n",
       "    <tr>\n",
       "      <th>Couple</th>\n",
       "      <td>0.545787</td>\n",
       "    </tr>\n",
       "    <tr>\n",
       "      <th>Single</th>\n",
       "      <td>0.932463</td>\n",
       "    </tr>\n",
       "  </tbody>\n",
       "</table>\n",
       "</div>"
      ],
      "text/plain": [
       "                  income\n",
       "marital-status          \n",
       "Couple          0.545787\n",
       "Single          0.932463"
      ]
     },
     "execution_count": 11,
     "metadata": {},
     "output_type": "execute_result"
    }
   ],
   "source": [
    "adult_data_frame['marital-status'] = adult_data_frame['marital-status'].replace(['Divorced','Married-spouse-absent','Never-married','Separated','Widowed'], 'Single')\n",
    "adult_data_frame['marital-status'] = adult_data_frame['marital-status'].replace(['Married-AF-spouse','Married-civ-spouse'], 'Couple')\n",
    "adult_data_frame[['marital-status','income']].groupby(['marital-status']).mean()\n"
   ]
  },
  {
   "cell_type": "code",
   "execution_count": 12,
   "metadata": {},
   "outputs": [
    {
     "data": {
      "text/plain": [
       "array(['North-America', 'South&Central-America', 'Europe', 'Asia'],\n",
       "      dtype=object)"
      ]
     },
     "execution_count": 12,
     "metadata": {},
     "output_type": "execute_result"
    }
   ],
   "source": [
    "adult_data_frame['native-country'].unique()"
   ]
  },
  {
   "cell_type": "code",
   "execution_count": 13,
   "metadata": {},
   "outputs": [
    {
     "data": {
      "text/html": [
       "<div>\n",
       "<style scoped>\n",
       "    .dataframe tbody tr th:only-of-type {\n",
       "        vertical-align: middle;\n",
       "    }\n",
       "\n",
       "    .dataframe tbody tr th {\n",
       "        vertical-align: top;\n",
       "    }\n",
       "\n",
       "    .dataframe thead th {\n",
       "        text-align: right;\n",
       "    }\n",
       "</style>\n",
       "<table border=\"1\" class=\"dataframe\">\n",
       "  <thead>\n",
       "    <tr style=\"text-align: right;\">\n",
       "      <th></th>\n",
       "      <th>age</th>\n",
       "      <th>workclass</th>\n",
       "      <th>educational-num</th>\n",
       "      <th>marital-status</th>\n",
       "      <th>relationship</th>\n",
       "      <th>gender</th>\n",
       "      <th>capital-gain</th>\n",
       "      <th>capital-loss</th>\n",
       "      <th>hours-per-week</th>\n",
       "      <th>native-country</th>\n",
       "      <th>income</th>\n",
       "    </tr>\n",
       "  </thead>\n",
       "  <tbody>\n",
       "    <tr>\n",
       "      <th>0</th>\n",
       "      <td>25</td>\n",
       "      <td>0</td>\n",
       "      <td>7</td>\n",
       "      <td>0</td>\n",
       "      <td>0</td>\n",
       "      <td>1</td>\n",
       "      <td>0</td>\n",
       "      <td>0</td>\n",
       "      <td>40</td>\n",
       "      <td>0</td>\n",
       "      <td>1</td>\n",
       "    </tr>\n",
       "    <tr>\n",
       "      <th>1</th>\n",
       "      <td>38</td>\n",
       "      <td>0</td>\n",
       "      <td>9</td>\n",
       "      <td>1</td>\n",
       "      <td>1</td>\n",
       "      <td>1</td>\n",
       "      <td>0</td>\n",
       "      <td>0</td>\n",
       "      <td>50</td>\n",
       "      <td>0</td>\n",
       "      <td>1</td>\n",
       "    </tr>\n",
       "    <tr>\n",
       "      <th>2</th>\n",
       "      <td>28</td>\n",
       "      <td>1</td>\n",
       "      <td>12</td>\n",
       "      <td>1</td>\n",
       "      <td>1</td>\n",
       "      <td>1</td>\n",
       "      <td>0</td>\n",
       "      <td>0</td>\n",
       "      <td>40</td>\n",
       "      <td>0</td>\n",
       "      <td>0</td>\n",
       "    </tr>\n",
       "    <tr>\n",
       "      <th>3</th>\n",
       "      <td>44</td>\n",
       "      <td>0</td>\n",
       "      <td>10</td>\n",
       "      <td>1</td>\n",
       "      <td>1</td>\n",
       "      <td>1</td>\n",
       "      <td>7688</td>\n",
       "      <td>0</td>\n",
       "      <td>40</td>\n",
       "      <td>0</td>\n",
       "      <td>0</td>\n",
       "    </tr>\n",
       "    <tr>\n",
       "      <th>5</th>\n",
       "      <td>34</td>\n",
       "      <td>0</td>\n",
       "      <td>6</td>\n",
       "      <td>0</td>\n",
       "      <td>2</td>\n",
       "      <td>1</td>\n",
       "      <td>0</td>\n",
       "      <td>0</td>\n",
       "      <td>30</td>\n",
       "      <td>0</td>\n",
       "      <td>1</td>\n",
       "    </tr>\n",
       "    <tr>\n",
       "      <th>7</th>\n",
       "      <td>63</td>\n",
       "      <td>2</td>\n",
       "      <td>15</td>\n",
       "      <td>1</td>\n",
       "      <td>1</td>\n",
       "      <td>1</td>\n",
       "      <td>3103</td>\n",
       "      <td>0</td>\n",
       "      <td>32</td>\n",
       "      <td>0</td>\n",
       "      <td>0</td>\n",
       "    </tr>\n",
       "    <tr>\n",
       "      <th>8</th>\n",
       "      <td>24</td>\n",
       "      <td>0</td>\n",
       "      <td>10</td>\n",
       "      <td>0</td>\n",
       "      <td>3</td>\n",
       "      <td>0</td>\n",
       "      <td>0</td>\n",
       "      <td>0</td>\n",
       "      <td>40</td>\n",
       "      <td>0</td>\n",
       "      <td>1</td>\n",
       "    </tr>\n",
       "    <tr>\n",
       "      <th>9</th>\n",
       "      <td>55</td>\n",
       "      <td>0</td>\n",
       "      <td>4</td>\n",
       "      <td>1</td>\n",
       "      <td>1</td>\n",
       "      <td>1</td>\n",
       "      <td>0</td>\n",
       "      <td>0</td>\n",
       "      <td>10</td>\n",
       "      <td>0</td>\n",
       "      <td>1</td>\n",
       "    </tr>\n",
       "    <tr>\n",
       "      <th>10</th>\n",
       "      <td>65</td>\n",
       "      <td>0</td>\n",
       "      <td>9</td>\n",
       "      <td>1</td>\n",
       "      <td>1</td>\n",
       "      <td>1</td>\n",
       "      <td>6418</td>\n",
       "      <td>0</td>\n",
       "      <td>40</td>\n",
       "      <td>0</td>\n",
       "      <td>0</td>\n",
       "    </tr>\n",
       "    <tr>\n",
       "      <th>11</th>\n",
       "      <td>36</td>\n",
       "      <td>3</td>\n",
       "      <td>13</td>\n",
       "      <td>1</td>\n",
       "      <td>1</td>\n",
       "      <td>1</td>\n",
       "      <td>0</td>\n",
       "      <td>0</td>\n",
       "      <td>40</td>\n",
       "      <td>0</td>\n",
       "      <td>1</td>\n",
       "    </tr>\n",
       "  </tbody>\n",
       "</table>\n",
       "</div>"
      ],
      "text/plain": [
       "    age  workclass  educational-num  marital-status  relationship  gender  \\\n",
       "0    25          0                7               0             0       1   \n",
       "1    38          0                9               1             1       1   \n",
       "2    28          1               12               1             1       1   \n",
       "3    44          0               10               1             1       1   \n",
       "5    34          0                6               0             2       1   \n",
       "7    63          2               15               1             1       1   \n",
       "8    24          0               10               0             3       0   \n",
       "9    55          0                4               1             1       1   \n",
       "10   65          0                9               1             1       1   \n",
       "11   36          3               13               1             1       1   \n",
       "\n",
       "    capital-gain  capital-loss  hours-per-week  native-country  income  \n",
       "0              0             0              40               0       1  \n",
       "1              0             0              50               0       1  \n",
       "2              0             0              40               0       0  \n",
       "3           7688             0              40               0       0  \n",
       "5              0             0              30               0       1  \n",
       "7           3103             0              32               0       0  \n",
       "8              0             0              40               0       1  \n",
       "9              0             0              10               0       1  \n",
       "10          6418             0              40               0       0  \n",
       "11             0             0              40               0       1  "
      ]
     },
     "execution_count": 13,
     "metadata": {},
     "output_type": "execute_result"
    }
   ],
   "source": [
    "adult_data_frame['workclass'] = adult_data_frame['workclass'].map({'Private':0, 'Local-gov':1, 'Self-emp-not-inc':2, 'Federal-gov':3,\n",
    "       'State-gov':4, 'Self-emp-inc':5, 'Without-pay':6}).astype(int)\n",
    "adult_data_frame.drop(labels=['fnlwgt', 'education','occupation', 'race'],axis=1,inplace=True)\n",
    "adult_data_frame['marital-status'] = adult_data_frame['marital-status'].map({'Single':0, 'Couple': 1}).astype(int)\n",
    "adult_data_frame['relationship'] = adult_data_frame['relationship'].map({'Own-child':0, 'Husband':1, 'Not-in-family':2, 'Unmarried':3, 'Wife':4,\n",
    "       'Other-relative':5}).astype(int)\n",
    "adult_data_frame['native-country'] = adult_data_frame['native-country'].map({'North-America':0, 'South&Central-America':1, 'Europe':2, 'Asia':3})\n",
    "adult_data_frame.head(10)"
   ]
  },
  {
   "cell_type": "code",
   "execution_count": 14,
   "metadata": {},
   "outputs": [
    {
     "name": "stdout",
     "output_type": "stream",
     "text": [
      "<class 'pandas.core.frame.DataFrame'>\n",
      "Int64Index: 45222 entries, 0 to 48841\n",
      "Data columns (total 11 columns):\n",
      "age                45222 non-null int64\n",
      "workclass          45222 non-null int32\n",
      "educational-num    45222 non-null int64\n",
      "marital-status     45222 non-null int32\n",
      "relationship       45222 non-null int32\n",
      "gender             45222 non-null int32\n",
      "capital-gain       45222 non-null int64\n",
      "capital-loss       45222 non-null int64\n",
      "hours-per-week     45222 non-null int64\n",
      "native-country     45222 non-null int64\n",
      "income             45222 non-null int32\n",
      "dtypes: int32(5), int64(6)\n",
      "memory usage: 3.3 MB\n",
      "None\n"
     ]
    }
   ],
   "source": [
    "print (adult_data_frame.info())"
   ]
  },
  {
   "cell_type": "markdown",
   "metadata": {},
   "source": [
    "Next we want to plot the correlation matrix of the data set. This will help us establish if there are some features that are more correlated than others. "
   ]
  },
  {
   "cell_type": "code",
   "execution_count": 15,
   "metadata": {},
   "outputs": [
    {
     "data": {
      "image/png": "[encoded data removed]",
      "text/plain": [
       "<Figure size 1080x1080 with 1 Axes>"
      ]
     },
     "metadata": {
      "needs_background": "light"
     },
     "output_type": "display_data"
    }
   ],
   "source": [
    "def plot_correlation(adult_data_frame, size=15):\n",
    "    corr= adult_data_frame.corr()\n",
    "    fig, ax =plt.subplots(figsize=(size,size))\n",
    "    ax.matshow(corr)\n",
    "    plt.xticks(range(len(corr.columns)),corr.columns)\n",
    "    plt.yticks(range(len(corr.columns)),corr.columns)\n",
    "    plt.show()\n",
    "plot_correlation(adult_data_frame)"
   ]
  },
  {
   "cell_type": "markdown",
   "metadata": {},
   "source": [
    "Here we can observe some interesting things about the features and how they correlate to the target. We can easily see that educational-num is higly influential for the outcome."
   ]
  },
  {
   "cell_type": "code",
   "execution_count": 16,
   "metadata": {},
   "outputs": [
    {
     "data": {
      "text/html": [
       "<div>\n",
       "<style scoped>\n",
       "    .dataframe tbody tr th:only-of-type {\n",
       "        vertical-align: middle;\n",
       "    }\n",
       "\n",
       "    .dataframe tbody tr th {\n",
       "        vertical-align: top;\n",
       "    }\n",
       "\n",
       "    .dataframe thead th {\n",
       "        text-align: right;\n",
       "    }\n",
       "</style>\n",
       "<table border=\"1\" class=\"dataframe\">\n",
       "  <thead>\n",
       "    <tr style=\"text-align: right;\">\n",
       "      <th></th>\n",
       "      <th>abs_corr</th>\n",
       "    </tr>\n",
       "    <tr>\n",
       "      <th>parameter</th>\n",
       "      <th></th>\n",
       "    </tr>\n",
       "  </thead>\n",
       "  <tbody>\n",
       "    <tr>\n",
       "      <th>marital-status</th>\n",
       "      <td>0.446772</td>\n",
       "    </tr>\n",
       "    <tr>\n",
       "      <th>educational-num</th>\n",
       "      <td>0.332800</td>\n",
       "    </tr>\n",
       "    <tr>\n",
       "      <th>age</th>\n",
       "      <td>0.237040</td>\n",
       "    </tr>\n",
       "    <tr>\n",
       "      <th>hours-per-week</th>\n",
       "      <td>0.227199</td>\n",
       "    </tr>\n",
       "    <tr>\n",
       "      <th>capital-gain</th>\n",
       "      <td>0.221034</td>\n",
       "    </tr>\n",
       "    <tr>\n",
       "      <th>gender</th>\n",
       "      <td>0.215760</td>\n",
       "    </tr>\n",
       "    <tr>\n",
       "      <th>capital-loss</th>\n",
       "      <td>0.148687</td>\n",
       "    </tr>\n",
       "    <tr>\n",
       "      <th>workclass</th>\n",
       "      <td>0.137756</td>\n",
       "    </tr>\n",
       "    <tr>\n",
       "      <th>relationship</th>\n",
       "      <td>0.067427</td>\n",
       "    </tr>\n",
       "    <tr>\n",
       "      <th>native-country</th>\n",
       "      <td>0.009476</td>\n",
       "    </tr>\n",
       "  </tbody>\n",
       "</table>\n",
       "</div>"
      ],
      "text/plain": [
       "                 abs_corr\n",
       "parameter                \n",
       "marital-status   0.446772\n",
       "educational-num  0.332800\n",
       "age              0.237040\n",
       "hours-per-week   0.227199\n",
       "capital-gain     0.221034\n",
       "gender           0.215760\n",
       "capital-loss     0.148687\n",
       "workclass        0.137756\n",
       "relationship     0.067427\n",
       "native-country   0.009476"
      ]
     },
     "execution_count": 16,
     "metadata": {},
     "output_type": "execute_result"
    }
   ],
   "source": [
    "param=[]\n",
    "abs_corr=[]\n",
    "\n",
    "for c in adult_data_frame.columns.values:\n",
    "    \n",
    "    #Check if binary or continuous\n",
    "    if c != \"income\":\n",
    "        if len(adult_data_frame[c].unique()) <= 2:\n",
    "            corr = spearmanr(adult_data_frame['income'],adult_data_frame[c])[0]\n",
    "        else:\n",
    "            corr = pointbiserialr(adult_data_frame['income'],adult_data_frame[c].astype(int))[0]\n",
    "        param.append(c)\n",
    "        abs_corr.append(abs(corr))\n",
    "\n",
    "#Create dataframe for visualization\n",
    "param_df=pd.DataFrame({'parameter':param, 'abs_corr':abs_corr})\n",
    "\n",
    "#Sort by absolute correlation\n",
    "param_df=param_df.sort_values(by=['abs_corr'], ascending=False)\n",
    "\n",
    "#Set parameter name as index\n",
    "param_df=param_df.set_index('parameter')\n",
    "\n",
    "param_df"
   ]
  },
  {
   "cell_type": "markdown",
   "metadata": {},
   "source": [
    "At eye-sight, we observe that sex adn relationship status are higly correlated between each other. The same can be said about age:marital-status and age:relationship.\n",
    "\n",
    "Regarding the target, we observe that education-num, relationship sex, capital-gain, and hours-per-week are highly correlated with our objective."
   ]
  },
  {
   "cell_type": "code",
   "execution_count": 17,
   "metadata": {},
   "outputs": [
    {
     "data": {
      "image/png": "[encoded data removed]",
      "text/plain": [
       "<Figure size 1440x360 with 2 Axes>"
      ]
     },
     "metadata": {},
     "output_type": "display_data"
    }
   ],
   "source": [
    "plt.style.use('seaborn-ticks')\n",
    "fig = plt.figure(figsize=(20,5)) \n",
    "plt.subplot(1, 2, 1)\n",
    "sns.countplot(y=\"age\", data=adult_data_frame)\n",
    "plt.subplot(1, 2, 2)\n",
    "sns.distplot(adult_data_frame[adult_data_frame['income'] == 1]['age'], kde_kws={\"label\": \">$50K\"})\n",
    "sns.distplot(adult_data_frame[adult_data_frame['income'] == 0]['age'], kde_kws={\"label\": \"<=$50K\"}).set_title('Income distribution over the ages of the adults')\n",
    "plt.show()"
   ]
  },
  {
   "cell_type": "markdown",
   "metadata": {},
   "source": [
    "### Feature selection\n",
    "\n"
   ]
  },
  {
   "cell_type": "code",
   "execution_count": 18,
   "metadata": {},
   "outputs": [],
   "source": [
    "y= adult_data_frame['income']\n",
    "X= adult_data_frame.drop(['income'],axis=1)"
   ]
  },
  {
   "cell_type": "markdown",
   "metadata": {},
   "source": [
    "### 0. Pre-processing the data\n",
    "\n",
    "Before fitting any of the machines, we have to pre-process the data. \n",
    "\n",
    "1. First we are going to split it intro training and test data. The ratio I chose is 20/80. The seed is randomly generated as an integerg between 1 and 99. "
   ]
  },
  {
   "cell_type": "code",
   "execution_count": 19,
   "metadata": {},
   "outputs": [
    {
     "name": "stdout",
     "output_type": "stream",
     "text": [
      "Train dataset: (36177, 10)(36177,)\n",
      "Test dataset: (9045, 10)(9045,)\n"
     ]
    }
   ],
   "source": [
    "train_data, test_data, train_labels, test_labels = train_test_split(X,y,test_size=0.2,random_state=random.randint(1, 99))\n",
    "\n",
    "print (\"Train dataset: {0}{1}\".format(train_data.shape, train_labels.shape))\n",
    "print (\"Test dataset: {0}{1}\".format(test_data.shape, test_labels.shape))"
   ]
  },
  {
   "cell_type": "markdown",
   "metadata": {},
   "source": [
    "# Predictions\n",
    "In making the predictions we are going to use multiple algorithms and try to identify the best one. \n",
    "Algorithms used are:\n",
    "1. Random Forest Trees\n",
    "2. Logistic Regression\n",
    "3. Support Vector Machine "
   ]
  },
  {
   "cell_type": "markdown",
   "metadata": {},
   "source": [
    "### 1. Random Forest Trees\n",
    "In random forests each tree in the ensemble is built from a sample drawn with replacement (i.e., a bootstrap sample) from the training set. In addition, when splitting a node during the construction of the tree, the split that is chosen is no longer the best split among all features. Instead, the split that is picked is the best split among a random subset of the features. As a result of this randomness, the bias of the forest usually slightly increases (with respect to the bias of a single non-random tree) but, due to averaging, its variance also decreases, usually more than compensating for the increase in bias, hence yielding an overall better model."
   ]
  },
  {
   "cell_type": "code",
   "execution_count": 20,
   "metadata": {},
   "outputs": [
    {
     "name": "stdout",
     "output_type": "stream",
     "text": [
      "(36177, 10)\n",
      "Accuracy: 0.8057490326147042\n",
      "F1 score: 0.8858423754142031\n"
     ]
    }
   ],
   "source": [
    "from sklearn.ensemble import RandomForestClassifier\n",
    "from sklearn.datasets import make_classification\n",
    "\n",
    "print(train_data.shape)\n",
    "\n",
    "#Scaling the data\n",
    "qt = QuantileTransformer(output_distribution='uniform')\n",
    "train_data = qt.fit_transform(train_data)\n",
    "test_data = qt.transform(test_data)\n",
    "\n",
    "X_train, X_test = train_data, test_data\n",
    "y_train, y_test = train_labels, test_labels\n",
    "clf = RandomForestClassifier(n_estimators=100, max_depth=2, random_state=random.randint(1, 99))\n",
    "clf.fit(X_train, y_train)\n",
    "combined = clf.predict_proba(X_test)[:, 1]\n",
    "rounded = np.round(combined)\n",
    "\n",
    "print('Accuracy:', accuracy_score(rounded, y_test))\n",
    "print('F1 score:', f1_score(rounded, y_test))"
   ]
  },
  {
   "cell_type": "markdown",
   "metadata": {},
   "source": [
    "### 2. Support Vector Machines\n",
    "\n",
    "Support vector machines (SVMs) are a set of supervised learning methods used for classification, regression and outliers detection.\n",
    "\n",
    "The advantages of support vector machines are:\n",
    "\n",
    "* Effective in high dimensional spaces.\n",
    "* Still effective in cases where number of dimensions is greater than the number of samples.\n",
    "* Uses a subset of training points in the decision function (called support vectors), so it is also memory efficient.\n",
    "* Versatile: different Kernel functions can be specified for the decision function. Common kernels are provided, but it is also possible to specify custom kernels.\n",
    "\n",
    "The disadvantages of support vector machines include:\n",
    "\n",
    "* If the number of features is much greater than the number of samples, avoid over-fitting in choosing Kernel functions and regularization term is crucial.\n",
    "* SVMs do not directly provide probability estimates, these are calculated using an expensive five-fold cross-validation (see Scores and probabilities, below)."
   ]
  },
  {
   "cell_type": "code",
   "execution_count": 21,
   "metadata": {},
   "outputs": [
    {
     "name": "stdout",
     "output_type": "stream",
     "text": [
      "ok\n",
      "ok\n",
      "Accuracy: 0.8388059701492537\n",
      "F1 score: 0.8955886565454025\n"
     ]
    },
    {
     "name": "stderr",
     "output_type": "stream",
     "text": [
      "c:\\users\\rares\\pycharmprojects\\penn-ml-library-project\\venv\\lib\\site-packages\\sklearn\\svm\\base.py:196: FutureWarning: The default value of gamma will change from 'auto' to 'scale' in version 0.22 to account better for unscaled features. Set gamma explicitly to 'auto' or 'scale' to avoid this warning.\n",
      "  \"avoid this warning.\", FutureWarning)\n"
     ]
    },
    {
     "ename": "KeyboardInterrupt",
     "evalue": "",
     "output_type": "error",
     "traceback": [
      "\u001b[1;31m---------------------------------------------------------------------------\u001b[0m",
      "\u001b[1;31mKeyboardInterrupt\u001b[0m                         Traceback (most recent call last)",
      "\u001b[1;32m<ipython-input-21-7d756b175c0e>\u001b[0m in \u001b[0;36m<module>\u001b[1;34m\u001b[0m\n\u001b[0;32m     20\u001b[0m \u001b[1;33m\u001b[0m\u001b[0m\n\u001b[0;32m     21\u001b[0m \u001b[0mPolySVM\u001b[0m \u001b[1;33m=\u001b[0m \u001b[0mSVC\u001b[0m\u001b[1;33m(\u001b[0m\u001b[0mkernel\u001b[0m\u001b[1;33m=\u001b[0m\u001b[1;34m'poly'\u001b[0m\u001b[1;33m)\u001b[0m\u001b[1;33m\u001b[0m\u001b[1;33m\u001b[0m\u001b[0m\n\u001b[1;32m---> 22\u001b[1;33m \u001b[0mPolySVM\u001b[0m\u001b[1;33m.\u001b[0m\u001b[0mfit\u001b[0m\u001b[1;33m(\u001b[0m\u001b[0mtrain_data\u001b[0m\u001b[1;33m,\u001b[0m \u001b[0mtrain_labels\u001b[0m\u001b[1;33m)\u001b[0m\u001b[1;33m\u001b[0m\u001b[1;33m\u001b[0m\u001b[0m\n\u001b[0m\u001b[0;32m     23\u001b[0m \u001b[0mPolySVM_prediction\u001b[0m \u001b[1;33m=\u001b[0m \u001b[0mPolySVM\u001b[0m\u001b[1;33m.\u001b[0m\u001b[0mpredict\u001b[0m\u001b[1;33m(\u001b[0m\u001b[0mtest_data\u001b[0m\u001b[1;33m)\u001b[0m\u001b[1;33m\u001b[0m\u001b[1;33m\u001b[0m\u001b[0m\n\u001b[0;32m     24\u001b[0m \u001b[1;33m\u001b[0m\u001b[0m\n",
      "\u001b[1;32mc:\\users\\rares\\pycharmprojects\\penn-ml-library-project\\venv\\lib\\site-packages\\sklearn\\svm\\base.py\u001b[0m in \u001b[0;36mfit\u001b[1;34m(self, X, y, sample_weight)\u001b[0m\n\u001b[0;32m    210\u001b[0m \u001b[1;33m\u001b[0m\u001b[0m\n\u001b[0;32m    211\u001b[0m         \u001b[0mseed\u001b[0m \u001b[1;33m=\u001b[0m \u001b[0mrnd\u001b[0m\u001b[1;33m.\u001b[0m\u001b[0mrandint\u001b[0m\u001b[1;33m(\u001b[0m\u001b[0mnp\u001b[0m\u001b[1;33m.\u001b[0m\u001b[0miinfo\u001b[0m\u001b[1;33m(\u001b[0m\u001b[1;34m'i'\u001b[0m\u001b[1;33m)\u001b[0m\u001b[1;33m.\u001b[0m\u001b[0mmax\u001b[0m\u001b[1;33m)\u001b[0m\u001b[1;33m\u001b[0m\u001b[1;33m\u001b[0m\u001b[0m\n\u001b[1;32m--> 212\u001b[1;33m         \u001b[0mfit\u001b[0m\u001b[1;33m(\u001b[0m\u001b[0mX\u001b[0m\u001b[1;33m,\u001b[0m \u001b[0my\u001b[0m\u001b[1;33m,\u001b[0m \u001b[0msample_weight\u001b[0m\u001b[1;33m,\u001b[0m \u001b[0msolver_type\u001b[0m\u001b[1;33m,\u001b[0m \u001b[0mkernel\u001b[0m\u001b[1;33m,\u001b[0m \u001b[0mrandom_seed\u001b[0m\u001b[1;33m=\u001b[0m\u001b[0mseed\u001b[0m\u001b[1;33m)\u001b[0m\u001b[1;33m\u001b[0m\u001b[1;33m\u001b[0m\u001b[0m\n\u001b[0m\u001b[0;32m    213\u001b[0m         \u001b[1;31m# see comment on the other call to np.iinfo in this file\u001b[0m\u001b[1;33m\u001b[0m\u001b[1;33m\u001b[0m\u001b[1;33m\u001b[0m\u001b[0m\n\u001b[0;32m    214\u001b[0m \u001b[1;33m\u001b[0m\u001b[0m\n",
      "\u001b[1;32mc:\\users\\rares\\pycharmprojects\\penn-ml-library-project\\venv\\lib\\site-packages\\sklearn\\svm\\base.py\u001b[0m in \u001b[0;36m_dense_fit\u001b[1;34m(self, X, y, sample_weight, solver_type, kernel, random_seed)\u001b[0m\n\u001b[0;32m    269\u001b[0m                 \u001b[0mcache_size\u001b[0m\u001b[1;33m=\u001b[0m\u001b[0mself\u001b[0m\u001b[1;33m.\u001b[0m\u001b[0mcache_size\u001b[0m\u001b[1;33m,\u001b[0m \u001b[0mcoef0\u001b[0m\u001b[1;33m=\u001b[0m\u001b[0mself\u001b[0m\u001b[1;33m.\u001b[0m\u001b[0mcoef0\u001b[0m\u001b[1;33m,\u001b[0m\u001b[1;33m\u001b[0m\u001b[1;33m\u001b[0m\u001b[0m\n\u001b[0;32m    270\u001b[0m                 \u001b[0mgamma\u001b[0m\u001b[1;33m=\u001b[0m\u001b[0mself\u001b[0m\u001b[1;33m.\u001b[0m\u001b[0m_gamma\u001b[0m\u001b[1;33m,\u001b[0m \u001b[0mepsilon\u001b[0m\u001b[1;33m=\u001b[0m\u001b[0mself\u001b[0m\u001b[1;33m.\u001b[0m\u001b[0mepsilon\u001b[0m\u001b[1;33m,\u001b[0m\u001b[1;33m\u001b[0m\u001b[1;33m\u001b[0m\u001b[0m\n\u001b[1;32m--> 271\u001b[1;33m                 max_iter=self.max_iter, random_seed=random_seed)\n\u001b[0m\u001b[0;32m    272\u001b[0m \u001b[1;33m\u001b[0m\u001b[0m\n\u001b[0;32m    273\u001b[0m         \u001b[0mself\u001b[0m\u001b[1;33m.\u001b[0m\u001b[0m_warn_from_fit_status\u001b[0m\u001b[1;33m(\u001b[0m\u001b[1;33m)\u001b[0m\u001b[1;33m\u001b[0m\u001b[1;33m\u001b[0m\u001b[0m\n",
      "\u001b[1;31mKeyboardInterrupt\u001b[0m: "
     ]
    }
   ],
   "source": [
    "# Preprocess Data\n",
    "# This Scaler is used according to the results obtained in DataScalaionComparison\n",
    "# qt = QuantileTransformer(output_distribution='uniform')\n",
    "# train_data = qt.fit_transform(train_data)\n",
    "# test_data = qt.transform(test_data)\n",
    "\n",
    "print ('ok')\n",
    "\n",
    "#Fit Machine\n",
    "LSVC = SVC(kernel='linear', random_state=0, tol=1e-5, C=0.1)\n",
    "LSVC.fit(train_data, train_labels)\n",
    "LSVC_prediction = LSVC.predict(test_data)\n",
    "\n",
    "print('ok')\n",
    "\n",
    "rounded = np.round(LSVC_prediction)\n",
    "\n",
    "print('Accuracy:', accuracy_score(rounded, test_labels))\n",
    "print('F1 score:', f1_score(rounded, test_labels))\n",
    "\n",
    "PolySVM = SVC(kernel='poly')\n",
    "PolySVM.fit(train_data, train_labels)\n",
    "PolySVM_prediction = PolySVM.predict(test_data)\n",
    "\n",
    "rounded = np.round(PolySVM_prediction)\n",
    "\n",
    "print('Accuracy:', accuracy_score(rounded, test_labels))\n",
    "print('F1 score:', f1_score(rounded, test_labels))\n",
    "\n",
    "RBFSVM = SVC(kernel='rbf', C = 1, tol = 1e-3)\n",
    "RBFSVM.fit(train_data, train_labels)\n",
    "RBFSVM_prediction = RBFSVM.predict(test_data)\n",
    "\n",
    "rounded = np.round(RBFSVM_prediction)\n",
    "\n",
    "print('Accuracy:', accuracy_score(rounded, test_labels))\n",
    "print('F1 score:', f1_score(rounded, test_labels))\n",
    "\n",
    "SigmoidSVM = SVC(kernel='sigmoid')\n",
    "SigmoidSVM.fit(train_data, train_labels)\n",
    "SigmoidSVM_prediction = SigmoidSVM.predict(test_data)\n",
    "\n",
    "rounded = np.round(SigmoidSVM_prediction)\n",
    "\n",
    "print('Accuracy:', accuracy_score(rounded, test_labels))\n",
    "print('F1 score:', f1_score(rounded, test_labels))"
   ]
  },
  {
   "cell_type": "markdown",
   "metadata": {},
   "source": [
    "### 3. Logistical Regression"
   ]
  },
  {
   "cell_type": "code",
   "execution_count": null,
   "metadata": {},
   "outputs": [],
   "source": [
    "def logReg(adult_data, adult_labels):\n",
    "\n",
    "    #Split Data\n",
    "    train_data, test_data, train_labels, test_labels = train_test_split(adult_data, adult_labels, test_size=0.2,\n",
    "                                                                        random_state=random.randint(1, 99))\n",
    "\n",
    "    # Preprocess Data\n",
    "    # This Scaler is used according to the results obtained in DataScalaionComparison for Logistical Regression\n",
    "    qt = QuantileTransformer(output_distribution='uniform')\n",
    "    train_data = qt.fit_transform(train_data)\n",
    "    test_data = qt.transform(test_data)\n",
    "\n",
    "    #Fit Machine\n",
    "    logreg = LogisticRegression(C = 0.1, max_iter= 1000, penalty= \"l1\", solver=\"saga\")\n",
    "    logreg.fit(train_data, train_labels)\n",
    "\n",
    "    # Best Parameters\n",
    "    # Used Grid Search CV to find the best hyper-parameters to tune Logistical Regression machine.\n",
    "    # Winning combination: {'C': 0.1, 'max_iter': 1000, 'penalty': 'l1', 'solver': 'saga'}\n",
    "    # Gained around 0.8-1 % accuracy\n",
    "\n",
    "    # grid = {\"C\": np.logspace(-3, 3, 7), \"penalty\": [\"l1\"], \"solver\": [\"saga\"], \"max_iter\": [100, 1000, 10000, 100000]}  # l1 lasso l2 ridge\n",
    "    # logreg_cv = GridSearchCV(logreg, grid, cv=5)\n",
    "    # logreg_cv.fit(train_data, train_labels)\n",
    "\n",
    "    # print(\"tuned hpyerparameters :(best parameters) \", logreg_cv.best_params_)\n",
    "    # print(\"accuracy :\", logreg_cv.best_score_)\n",
    "    # print(logreg_cv.cv_results_)\n",
    "\n",
    "    #Predict\n",
    "    logreg_prediction = logreg.predict(test_data)\n",
    "    \n",
    "    rounded = np.round(logreg_prediction)\n",
    "\n",
    "    print('Accuracy:', accuracy_score(rounded, test_labels))\n",
    "    print('F1 score:', f1_score(rounded, test_labels))\n",
    "logReg(X, y)\n",
    "\n",
    "#     return np.count_nonzero(np.equal(test_labels, logreg_prediction)) * 100 / logreg_prediction.size"
   ]
  },
  {
   "cell_type": "markdown",
   "metadata": {},
   "source": [
    "### 4. Decision Tree Classifier\n",
    "Decision Trees (DTs) are a non-parametric supervised learning method used for classification and regression. The goal is to create a model that predicts the value of a target variable by learning simple decision rules inferred from the data features.\n",
    "\n",
    "For instance, in the example below, decision trees learn from data to approximate a sine curve with a set of if-then-else decision rules. The deeper the tree, the more complex the decision rules and the fitter the model."
   ]
  },
  {
   "cell_type": "code",
   "execution_count": null,
   "metadata": {},
   "outputs": [],
   "source": [
    "tree_count = 10\n",
    "bag_proportion = 0.6\n",
    "predictions = []\n",
    "\n",
    "#Scaling the data\n",
    "qt = QuantileTransformer(output_distribution='uniform')\n",
    "train_data = qt.fit_transform(train_data)\n",
    "test_data = qt.transform(test_data)\n",
    "\n",
    "for i in range(tree_count):\n",
    "    X_train, X_test = train_data, test_data\n",
    "    y_train, y_test = train_labels, test_labels\n",
    "    clf = DecisionTreeClassifier(random_state=1, min_samples_leaf=75)\n",
    "    clf.fit(X_train, y_train)\n",
    "    predictions.append(clf.predict_proba(X_test)[:, 1])\n",
    "\n",
    "combined = np.sum(predictions, axis=0) / 10\n",
    "rounded = np.round(combined)\n",
    "\n",
    "print('Accuracy:', accuracy_score(rounded, y_test))\n",
    "print('F1 score:', f1_score(rounded, y_test))"
   ]
  },
  {
   "cell_type": "markdown",
   "metadata": {},
   "source": [
    "## Behind the scenes"
   ]
  },
  {
   "cell_type": "markdown",
   "metadata": {},
   "source": [
    "###  Data Scaling\n",
    "We chose to scale the data. The scaler used was chosen after comparing multiple scalers. This improved the accuracy of the models by 2-3%."
   ]
  },
  {
   "cell_type": "code",
   "execution_count": null,
   "metadata": {},
   "outputs": [],
   "source": [
    "X_train = train_data\n",
    "X_test = test_data\n",
    "y_train = train_labels\n",
    "y_test = test_labels\n",
    "\n",
    "from sklearn.preprocessing import MinMaxScaler\n",
    "from sklearn.preprocessing import minmax_scale\n",
    "from sklearn.preprocessing import MaxAbsScaler\n",
    "from sklearn.preprocessing import StandardScaler\n",
    "from sklearn.preprocessing import RobustScaler\n",
    "from sklearn.preprocessing import Normalizer\n",
    "from sklearn.preprocessing import QuantileTransformer\n",
    "from sklearn.preprocessing import PowerTransformer\n",
    "\n",
    "from sklearn.exceptions import DataConversionWarning\n",
    "import warnings\n",
    "warnings.filterwarnings(action='ignore', category=DataConversionWarning)\n",
    "\n",
    "logreg = LogisticRegression( solver='lbfgs' )\n",
    "\n",
    "distributions = [\n",
    "    ('Unscaled data', X_train),\n",
    "    ('Data after standard scaling',\n",
    "        StandardScaler()),\n",
    "    ('Data after min-max scaling',\n",
    "        MinMaxScaler()),\n",
    "    ('Data after max-abs scaling',\n",
    "        MaxAbsScaler()),\n",
    "    ('Data after robust scaling',\n",
    "        RobustScaler(quantile_range=(25, 75))),\n",
    "    ('Data after power transformation (Yeo-Johnson)',\n",
    "     PowerTransformer(method='yeo-johnson')),\n",
    "    ('Data after quantile transformation (gaussian pdf)',\n",
    "        QuantileTransformer(output_distribution='normal')\n",
    "        ),\n",
    "    ('Data after quantile transformation (uniform pdf)',\n",
    "        QuantileTransformer(output_distribution='uniform')\n",
    "        ),\n",
    "    ('Data after sample-wise L2 normalizing',\n",
    "        Normalizer()),\n",
    "]\n",
    "\n",
    "for i in range (1, len(distributions)):\n",
    "    scaler = distributions[i][1]\n",
    "    train_data = scaler.fit_transform(X_train);\n",
    "    test_data = scaler.transform(X_test)\n",
    "\n",
    "    logreg.fit(train_data, train_labels)\n",
    "\n",
    "    logreg_prediction = logreg.predict(test_data)\n",
    "\n",
    "    logreg_result = np.count_nonzero(np.equal(test_labels, logreg_prediction)) * 100 / logreg_prediction.size\n",
    "    print(distributions[i][0], \": \", logreg_result)"
   ]
  },
  {
   "cell_type": "markdown",
   "metadata": {},
   "source": [
    "### Hyper-parameter optimization\n",
    "We used Grid Search to find the best hyper-parameters for each of the machines we deployed. "
   ]
  },
  {
   "cell_type": "code",
   "execution_count": null,
   "metadata": {},
   "outputs": [],
   "source": [
    "#     Best Parameters\n",
    "#     Used Grid Search CV to find the best hyper-parameters to tune Logistical Regression machine.\n",
    "#     Winning combination: {'C': 0.1, 'max_iter': 1000, 'penalty': 'l1', 'solver': 'saga'}\n",
    "#     Gained around 0.8-1 % accuracy\n",
    "\n",
    "from sklearn.model_selection import GridSearchCV\n",
    "grid = {\"C\": np.logspace(-3, 3, 7), \"penalty\": [\"l1\"], \"solver\": [\"saga\"], \"max_iter\": [100, 1000, 10000, 100000]}  \n",
    "# l1 lasso l2 ridge\n",
    "logreg_cv = GridSearchCV(logreg, grid, cv=5)\n",
    "logreg_cv.fit(train_data, train_labels)\n",
    "\n",
    "print(\"tuned hpyerparameters :(best parameters) \", logreg_cv.best_params_)\n",
    "print(\"accuracy :\", logreg_cv.best_score_)\n",
    "print(logreg_cv.cv_results_)"
   ]
  },
  {
   "cell_type": "markdown",
   "metadata": {},
   "source": [
    "### Sources\n",
    "1. https://scikit-learn.org/stable/modules/tree.html#tree\n",
    "2. https://www.kaggle.com/overload10/adult-census-dataset\n",
    "3. https://scikit-learn.org/stable/modules/svm.html"
   ]
  },
  {
   "cell_type": "code",
   "execution_count": null,
   "metadata": {},
   "outputs": [],
   "source": []
  }
 ],
 "metadata": {
  "celltoolbar": "Slideshow",
  "kernelspec": {
   "display_name": "Python 3",
   "language": "python",
   "name": "python3"
  },
  "language_info": {
   "codemirror_mode": {
    "name": "ipython",
    "version": 3
   },
   "file_extension": ".py",
   "mimetype": "text/x-python",
   "name": "python",
   "nbconvert_exporter": "python",
   "pygments_lexer": "ipython3",
   "version": "3.7.2"
  }
 },
 "nbformat": 4,
 "nbformat_minor": 2
}
