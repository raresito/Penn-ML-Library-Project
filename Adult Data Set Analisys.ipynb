{
 "cells": [
  {
   "cell_type": "markdown",
   "metadata": {
    "slideshow": {
     "slide_type": "slide"
    }
   },
   "source": [
    "# Adult Data Set Analisys"
   ]
  },
  {
   "cell_type": "markdown",
   "metadata": {},
   "source": [
    "## Abstract\n",
    "**About this Dataset**\n",
    "US Adult Census data relating income to social factors such as Age, Education, race etc.\n",
    "\n",
    "The Us Adult income dataset was extracted by Barry Becker from the 1994 US Census Database. The data set consists of anonymous information such as occupation, age, native country, race, capital gain, capital loss, education, work class and more. Each row is labelled as either having a salary greater than \">50K\" or \"<=50K\".\n",
    "\n",
    "This Data set is split into two CSV files, named adult-training.txt and adult-test.txt.\n",
    "\n",
    "The goal here is to train a binary classifier on the training dataset to predict the column '__target__' which has two possible values \">50K\" and \"<=50K\" and evaluate the accuracy of the classifier with the test dataset.\n",
    "\n",
    "This Dataset was obtained from the UCI repository, it can be found on\n",
    "\n",
    "https://archive.ics.uci.edu/ml/datasets/census+income, http://mlr.cs.umass.edu/ml/machine-learning-databases/adult/\n",
    "\n",
    "USAGE This dataset is well suited to developing and testing wide linear classifiers, deep neutral network classifiers and a combination of both. For more info on Combined Deep and Wide Model classifiers, refer to the Research Paper by Google https://arxiv.org/abs/1606.07792"
   ]
  },
  {
   "cell_type": "markdown",
   "metadata": {
    "slideshow": {
     "slide_type": "fragment"
    }
   },
   "source": [
    "# What are we going to use ?"
   ]
  },
  {
   "cell_type": "code",
   "execution_count": 28,
   "metadata": {
    "slideshow": {
     "slide_type": "slide"
    }
   },
   "outputs": [],
   "source": [
    "from pmlb import fetch_data, classification_dataset_names\n",
    "# from Regressions.SGDClassifier_Solver import sgdcalssifier\n",
    "# from Regressions.SupportVectorMachine_Solver import supportVectorMachine\n",
    "from sklearn.tree import DecisionTreeClassifier\n",
    "from sklearn.svm import SVC\n",
    "from sklearn.linear_model import LogisticRegression\n",
    "import matplotlib.pyplot as plt\n",
    "from pandas.plotting import scatter_matrix\n",
    "from sklearn.model_selection import train_test_split\n",
    "from sklearn.metrics import accuracy_score, roc_auc_score, f1_score\n",
    "from scipy.stats import pointbiserialr, spearmanr\n",
    "from sklearn.preprocessing import QuantileTransformer\n",
    "import random\n",
    "import numpy as np\n",
    "import pandas as pd\n",
    "\n",
    "# %load "
   ]
  },
  {
   "cell_type": "code",
   "execution_count": 2,
   "metadata": {
    "slideshow": {
     "slide_type": "skip"
    }
   },
   "outputs": [],
   "source": [
    "adult_data, adult_labels = fetch_data('adult', return_X_y=True, local_cache_dir='./')\n",
    "adult_data_frame = fetch_data('adult')\n",
    "# adult_data_frame.groupby(\"age\")[\"target\"].count().plot(kind='line')\n",
    "# plt.show()"
   ]
  },
  {
   "cell_type": "markdown",
   "metadata": {},
   "source": [
    "Data presented, with all if it's fetures. Some observations:\n",
    "1. fnlwgt is a highly dispersive. We will leave it out for this test\n",
    "2. All the values are already numerical, thanks to the pmlb library."
   ]
  },
  {
   "cell_type": "code",
   "execution_count": 3,
   "metadata": {
    "scrolled": true
   },
   "outputs": [
    {
     "data": {
      "text/html": [
       "<div>\n",
       "<style scoped>\n",
       "    .dataframe tbody tr th:only-of-type {\n",
       "        vertical-align: middle;\n",
       "    }\n",
       "\n",
       "    .dataframe tbody tr th {\n",
       "        vertical-align: top;\n",
       "    }\n",
       "\n",
       "    .dataframe thead th {\n",
       "        text-align: right;\n",
       "    }\n",
       "</style>\n",
       "<table border=\"1\" class=\"dataframe\">\n",
       "  <thead>\n",
       "    <tr style=\"text-align: right;\">\n",
       "      <th></th>\n",
       "      <th>age</th>\n",
       "      <th>workclass</th>\n",
       "      <th>fnlwgt</th>\n",
       "      <th>education</th>\n",
       "      <th>education-num</th>\n",
       "      <th>marital-status</th>\n",
       "      <th>occupation</th>\n",
       "      <th>relationship</th>\n",
       "      <th>race</th>\n",
       "      <th>sex</th>\n",
       "      <th>capital-gain</th>\n",
       "      <th>capital-loss</th>\n",
       "      <th>hours-per-week</th>\n",
       "      <th>native-country</th>\n",
       "      <th>target</th>\n",
       "    </tr>\n",
       "  </thead>\n",
       "  <tbody>\n",
       "    <tr>\n",
       "      <th>count</th>\n",
       "      <td>48842.000000</td>\n",
       "      <td>48842.000000</td>\n",
       "      <td>4.884200e+04</td>\n",
       "      <td>48842.000000</td>\n",
       "      <td>48842.000000</td>\n",
       "      <td>48842.000000</td>\n",
       "      <td>48842.000000</td>\n",
       "      <td>48842.000000</td>\n",
       "      <td>48842.000000</td>\n",
       "      <td>48842.000000</td>\n",
       "      <td>48842.000000</td>\n",
       "      <td>48842.000000</td>\n",
       "      <td>48842.000000</td>\n",
       "      <td>48842.000000</td>\n",
       "      <td>48842.000000</td>\n",
       "    </tr>\n",
       "    <tr>\n",
       "      <th>mean</th>\n",
       "      <td>38.643585</td>\n",
       "      <td>3.870439</td>\n",
       "      <td>1.896641e+05</td>\n",
       "      <td>10.288420</td>\n",
       "      <td>10.078089</td>\n",
       "      <td>2.618750</td>\n",
       "      <td>6.577700</td>\n",
       "      <td>1.443287</td>\n",
       "      <td>3.668052</td>\n",
       "      <td>0.668482</td>\n",
       "      <td>1079.067626</td>\n",
       "      <td>87.502314</td>\n",
       "      <td>40.422382</td>\n",
       "      <td>36.749355</td>\n",
       "      <td>0.760718</td>\n",
       "    </tr>\n",
       "    <tr>\n",
       "      <th>std</th>\n",
       "      <td>13.710510</td>\n",
       "      <td>1.464234</td>\n",
       "      <td>1.056040e+05</td>\n",
       "      <td>3.874492</td>\n",
       "      <td>2.570973</td>\n",
       "      <td>1.507703</td>\n",
       "      <td>4.230509</td>\n",
       "      <td>1.602151</td>\n",
       "      <td>0.845986</td>\n",
       "      <td>0.470764</td>\n",
       "      <td>7452.019058</td>\n",
       "      <td>403.004552</td>\n",
       "      <td>12.391444</td>\n",
       "      <td>7.775343</td>\n",
       "      <td>0.426649</td>\n",
       "    </tr>\n",
       "    <tr>\n",
       "      <th>min</th>\n",
       "      <td>17.000000</td>\n",
       "      <td>0.000000</td>\n",
       "      <td>1.228500e+04</td>\n",
       "      <td>0.000000</td>\n",
       "      <td>1.000000</td>\n",
       "      <td>0.000000</td>\n",
       "      <td>0.000000</td>\n",
       "      <td>0.000000</td>\n",
       "      <td>0.000000</td>\n",
       "      <td>0.000000</td>\n",
       "      <td>0.000000</td>\n",
       "      <td>0.000000</td>\n",
       "      <td>1.000000</td>\n",
       "      <td>0.000000</td>\n",
       "      <td>0.000000</td>\n",
       "    </tr>\n",
       "    <tr>\n",
       "      <th>25%</th>\n",
       "      <td>28.000000</td>\n",
       "      <td>4.000000</td>\n",
       "      <td>1.175505e+05</td>\n",
       "      <td>9.000000</td>\n",
       "      <td>9.000000</td>\n",
       "      <td>2.000000</td>\n",
       "      <td>3.000000</td>\n",
       "      <td>0.000000</td>\n",
       "      <td>4.000000</td>\n",
       "      <td>0.000000</td>\n",
       "      <td>0.000000</td>\n",
       "      <td>0.000000</td>\n",
       "      <td>40.000000</td>\n",
       "      <td>39.000000</td>\n",
       "      <td>1.000000</td>\n",
       "    </tr>\n",
       "    <tr>\n",
       "      <th>50%</th>\n",
       "      <td>37.000000</td>\n",
       "      <td>4.000000</td>\n",
       "      <td>1.781445e+05</td>\n",
       "      <td>11.000000</td>\n",
       "      <td>10.000000</td>\n",
       "      <td>2.000000</td>\n",
       "      <td>7.000000</td>\n",
       "      <td>1.000000</td>\n",
       "      <td>4.000000</td>\n",
       "      <td>1.000000</td>\n",
       "      <td>0.000000</td>\n",
       "      <td>0.000000</td>\n",
       "      <td>40.000000</td>\n",
       "      <td>39.000000</td>\n",
       "      <td>1.000000</td>\n",
       "    </tr>\n",
       "    <tr>\n",
       "      <th>75%</th>\n",
       "      <td>48.000000</td>\n",
       "      <td>4.000000</td>\n",
       "      <td>2.376420e+05</td>\n",
       "      <td>12.000000</td>\n",
       "      <td>12.000000</td>\n",
       "      <td>4.000000</td>\n",
       "      <td>10.000000</td>\n",
       "      <td>3.000000</td>\n",
       "      <td>4.000000</td>\n",
       "      <td>1.000000</td>\n",
       "      <td>0.000000</td>\n",
       "      <td>0.000000</td>\n",
       "      <td>45.000000</td>\n",
       "      <td>39.000000</td>\n",
       "      <td>1.000000</td>\n",
       "    </tr>\n",
       "    <tr>\n",
       "      <th>max</th>\n",
       "      <td>90.000000</td>\n",
       "      <td>8.000000</td>\n",
       "      <td>1.490400e+06</td>\n",
       "      <td>15.000000</td>\n",
       "      <td>16.000000</td>\n",
       "      <td>6.000000</td>\n",
       "      <td>14.000000</td>\n",
       "      <td>5.000000</td>\n",
       "      <td>4.000000</td>\n",
       "      <td>1.000000</td>\n",
       "      <td>99999.000000</td>\n",
       "      <td>4356.000000</td>\n",
       "      <td>99.000000</td>\n",
       "      <td>41.000000</td>\n",
       "      <td>1.000000</td>\n",
       "    </tr>\n",
       "  </tbody>\n",
       "</table>\n",
       "</div>"
      ],
      "text/plain": [
       "                age     workclass        fnlwgt     education  education-num  \\\n",
       "count  48842.000000  48842.000000  4.884200e+04  48842.000000   48842.000000   \n",
       "mean      38.643585      3.870439  1.896641e+05     10.288420      10.078089   \n",
       "std       13.710510      1.464234  1.056040e+05      3.874492       2.570973   \n",
       "min       17.000000      0.000000  1.228500e+04      0.000000       1.000000   \n",
       "25%       28.000000      4.000000  1.175505e+05      9.000000       9.000000   \n",
       "50%       37.000000      4.000000  1.781445e+05     11.000000      10.000000   \n",
       "75%       48.000000      4.000000  2.376420e+05     12.000000      12.000000   \n",
       "max       90.000000      8.000000  1.490400e+06     15.000000      16.000000   \n",
       "\n",
       "       marital-status    occupation  relationship          race           sex  \\\n",
       "count    48842.000000  48842.000000  48842.000000  48842.000000  48842.000000   \n",
       "mean         2.618750      6.577700      1.443287      3.668052      0.668482   \n",
       "std          1.507703      4.230509      1.602151      0.845986      0.470764   \n",
       "min          0.000000      0.000000      0.000000      0.000000      0.000000   \n",
       "25%          2.000000      3.000000      0.000000      4.000000      0.000000   \n",
       "50%          2.000000      7.000000      1.000000      4.000000      1.000000   \n",
       "75%          4.000000     10.000000      3.000000      4.000000      1.000000   \n",
       "max          6.000000     14.000000      5.000000      4.000000      1.000000   \n",
       "\n",
       "       capital-gain  capital-loss  hours-per-week  native-country  \\\n",
       "count  48842.000000  48842.000000    48842.000000    48842.000000   \n",
       "mean    1079.067626     87.502314       40.422382       36.749355   \n",
       "std     7452.019058    403.004552       12.391444        7.775343   \n",
       "min        0.000000      0.000000        1.000000        0.000000   \n",
       "25%        0.000000      0.000000       40.000000       39.000000   \n",
       "50%        0.000000      0.000000       40.000000       39.000000   \n",
       "75%        0.000000      0.000000       45.000000       39.000000   \n",
       "max    99999.000000   4356.000000       99.000000       41.000000   \n",
       "\n",
       "             target  \n",
       "count  48842.000000  \n",
       "mean       0.760718  \n",
       "std        0.426649  \n",
       "min        0.000000  \n",
       "25%        1.000000  \n",
       "50%        1.000000  \n",
       "75%        1.000000  \n",
       "max        1.000000  "
      ]
     },
     "execution_count": 3,
     "metadata": {},
     "output_type": "execute_result"
    }
   ],
   "source": [
    "adult_data_frame.describe()"
   ]
  },
  {
   "cell_type": "code",
   "execution_count": 4,
   "metadata": {},
   "outputs": [],
   "source": [
    "feature_columns = ['age', 'workclass', 'education', 'education-num',\n",
    "       'marital-status', 'occupation', 'relationship', 'race', 'sex',\n",
    "       'capital-gain', 'capital-loss', 'hours-per-week', 'native-country', 'target']\n",
    "adult_data_frame = adult_data_frame[feature_columns]"
   ]
  },
  {
   "cell_type": "markdown",
   "metadata": {},
   "source": [
    "Next we want to plot the correlation matrix of the data set. This will help us establish if there are some features that are more correlated than others. "
   ]
  },
  {
   "cell_type": "code",
   "execution_count": 5,
   "metadata": {},
   "outputs": [
    {
     "data": {
      "image/png": "[encoded data removed]",
      "text/plain": [
       "<Figure size 1080x1080 with 1 Axes>"
      ]
     },
     "metadata": {
      "needs_background": "light"
     },
     "output_type": "display_data"
    }
   ],
   "source": [
    "def plot_correlation(adult_data_frame, size=15):\n",
    "    corr= adult_data_frame.corr()\n",
    "    fig, ax =plt.subplots(figsize=(size,size))\n",
    "    ax.matshow(corr)\n",
    "    plt.xticks(range(len(corr.columns)),corr.columns)\n",
    "    plt.yticks(range(len(corr.columns)),corr.columns)\n",
    "    plt.show()\n",
    "plot_correlation(adult_data_frame)"
   ]
  },
  {
   "cell_type": "code",
   "execution_count": 6,
   "metadata": {},
   "outputs": [
    {
     "data": {
      "text/html": [
       "<div>\n",
       "<style scoped>\n",
       "    .dataframe tbody tr th:only-of-type {\n",
       "        vertical-align: middle;\n",
       "    }\n",
       "\n",
       "    .dataframe tbody tr th {\n",
       "        vertical-align: top;\n",
       "    }\n",
       "\n",
       "    .dataframe thead th {\n",
       "        text-align: right;\n",
       "    }\n",
       "</style>\n",
       "<table border=\"1\" class=\"dataframe\">\n",
       "  <thead>\n",
       "    <tr style=\"text-align: right;\">\n",
       "      <th></th>\n",
       "      <th>correlation</th>\n",
       "      <th>abs_corr</th>\n",
       "    </tr>\n",
       "    <tr>\n",
       "      <th>parameter</th>\n",
       "      <th></th>\n",
       "      <th></th>\n",
       "    </tr>\n",
       "  </thead>\n",
       "  <tbody>\n",
       "    <tr>\n",
       "      <th>education-num</th>\n",
       "      <td>-0.332613</td>\n",
       "      <td>0.332613</td>\n",
       "    </tr>\n",
       "    <tr>\n",
       "      <th>relationship</th>\n",
       "      <td>0.253214</td>\n",
       "      <td>0.253214</td>\n",
       "    </tr>\n",
       "    <tr>\n",
       "      <th>age</th>\n",
       "      <td>-0.230369</td>\n",
       "      <td>0.230369</td>\n",
       "    </tr>\n",
       "    <tr>\n",
       "      <th>hours-per-week</th>\n",
       "      <td>-0.227687</td>\n",
       "      <td>0.227687</td>\n",
       "    </tr>\n",
       "    <tr>\n",
       "      <th>capital-gain</th>\n",
       "      <td>-0.223013</td>\n",
       "      <td>0.223013</td>\n",
       "    </tr>\n",
       "    <tr>\n",
       "      <th>sex</th>\n",
       "      <td>-0.214628</td>\n",
       "      <td>0.214628</td>\n",
       "    </tr>\n",
       "    <tr>\n",
       "      <th>marital-status</th>\n",
       "      <td>0.199072</td>\n",
       "      <td>0.199072</td>\n",
       "    </tr>\n",
       "    <tr>\n",
       "      <th>capital-loss</th>\n",
       "      <td>-0.147554</td>\n",
       "      <td>0.147554</td>\n",
       "    </tr>\n",
       "    <tr>\n",
       "      <th>education</th>\n",
       "      <td>-0.080091</td>\n",
       "      <td>0.080091</td>\n",
       "    </tr>\n",
       "    <tr>\n",
       "      <th>occupation</th>\n",
       "      <td>-0.076722</td>\n",
       "      <td>0.076722</td>\n",
       "    </tr>\n",
       "    <tr>\n",
       "      <th>race</th>\n",
       "      <td>-0.070934</td>\n",
       "      <td>0.070934</td>\n",
       "    </tr>\n",
       "    <tr>\n",
       "      <th>workclass</th>\n",
       "      <td>-0.052674</td>\n",
       "      <td>0.052674</td>\n",
       "    </tr>\n",
       "    <tr>\n",
       "      <th>native-country</th>\n",
       "      <td>-0.012210</td>\n",
       "      <td>0.012210</td>\n",
       "    </tr>\n",
       "  </tbody>\n",
       "</table>\n",
       "</div>"
      ],
      "text/plain": [
       "                correlation  abs_corr\n",
       "parameter                            \n",
       "education-num     -0.332613  0.332613\n",
       "relationship       0.253214  0.253214\n",
       "age               -0.230369  0.230369\n",
       "hours-per-week    -0.227687  0.227687\n",
       "capital-gain      -0.223013  0.223013\n",
       "sex               -0.214628  0.214628\n",
       "marital-status     0.199072  0.199072\n",
       "capital-loss      -0.147554  0.147554\n",
       "education         -0.080091  0.080091\n",
       "occupation        -0.076722  0.076722\n",
       "race              -0.070934  0.070934\n",
       "workclass         -0.052674  0.052674\n",
       "native-country    -0.012210  0.012210"
      ]
     },
     "execution_count": 6,
     "metadata": {},
     "output_type": "execute_result"
    }
   ],
   "source": [
    "param=[]\n",
    "correlation=[]\n",
    "abs_corr=[]\n",
    "\n",
    "for c in feature_columns:\n",
    "    #Check if binary or continuous\n",
    "    if c != \"target\":\n",
    "        if len(adult_data_frame[c].unique()) <= 2:\n",
    "            corr = spearmanr(adult_data_frame['target'],adult_data_frame[c])[0]\n",
    "        else:\n",
    "            corr = pointbiserialr(adult_data_frame['target'],adult_data_frame[c])[0]\n",
    "        param.append(c)\n",
    "        correlation.append(corr)\n",
    "        abs_corr.append(abs(corr))\n",
    "\n",
    "#Create dataframe for visualization\n",
    "param_df=pd.DataFrame({'correlation':correlation,'parameter':param, 'abs_corr':abs_corr})\n",
    "\n",
    "#Sort by absolute correlation\n",
    "param_df=param_df.sort_values(by=['abs_corr'], ascending=False)\n",
    "\n",
    "#Set parameter name as index\n",
    "param_df=param_df.set_index('parameter')\n",
    "\n",
    "param_df"
   ]
  },
  {
   "cell_type": "markdown",
   "metadata": {},
   "source": [
    "At eye-sight, we observe that sex adn relationship status are higly correlated between each other. The same can be said about age:marital-status and age:relationship.\n",
    "\n",
    "Regarding the target, we observe that education-num, relationship sex, capital-gain, and hours-per-week are highly correlated with our objective. Further analysis on theese features is required."
   ]
  },
  {
   "cell_type": "code",
   "execution_count": 7,
   "metadata": {},
   "outputs": [
    {
     "data": {
      "image/png": "[encoded data removed]",
      "text/plain": [
       "<Figure size 432x288 with 1 Axes>"
      ]
     },
     "metadata": {
      "needs_background": "light"
     },
     "output_type": "display_data"
    }
   ],
   "source": [
    "x= adult_data_frame['hours-per-week']\n",
    "plt.hist(x,bins=None,density=True,normed=None,histtype='bar')\n",
    "plt.show()"
   ]
  },
  {
   "cell_type": "markdown",
   "metadata": {},
   "source": [
    "Unfortunatelly, hours per week doe"
   ]
  },
  {
   "cell_type": "markdown",
   "metadata": {},
   "source": [
    "In the following table we are able to see the influence that the relationship status has on the targeted outcome. On the original dataset, the outliers, 0 and 9 are 'Husbands' and 'Wifes', therefore, couples, while the rest of the labels are 'Divorced' ,'Married-spouse-absent' ,'Never-married' ,'Separated', 'Widowed'."
   ]
  },
  {
   "cell_type": "code",
   "execution_count": 8,
   "metadata": {},
   "outputs": [
    {
     "data": {
      "text/html": [
       "<div>\n",
       "<style scoped>\n",
       "    .dataframe tbody tr th:only-of-type {\n",
       "        vertical-align: middle;\n",
       "    }\n",
       "\n",
       "    .dataframe tbody tr th {\n",
       "        vertical-align: top;\n",
       "    }\n",
       "\n",
       "    .dataframe thead th {\n",
       "        text-align: right;\n",
       "    }\n",
       "</style>\n",
       "<table border=\"1\" class=\"dataframe\">\n",
       "  <thead>\n",
       "    <tr style=\"text-align: right;\">\n",
       "      <th></th>\n",
       "      <th>target</th>\n",
       "    </tr>\n",
       "    <tr>\n",
       "      <th>relationship</th>\n",
       "      <th></th>\n",
       "    </tr>\n",
       "  </thead>\n",
       "  <tbody>\n",
       "    <tr>\n",
       "      <th>0</th>\n",
       "      <td>0.551329</td>\n",
       "    </tr>\n",
       "    <tr>\n",
       "      <th>1</th>\n",
       "      <td>0.898593</td>\n",
       "    </tr>\n",
       "    <tr>\n",
       "      <th>2</th>\n",
       "      <td>0.965471</td>\n",
       "    </tr>\n",
       "    <tr>\n",
       "      <th>3</th>\n",
       "      <td>0.985358</td>\n",
       "    </tr>\n",
       "    <tr>\n",
       "      <th>4</th>\n",
       "      <td>0.939707</td>\n",
       "    </tr>\n",
       "    <tr>\n",
       "      <th>5</th>\n",
       "      <td>0.531103</td>\n",
       "    </tr>\n",
       "  </tbody>\n",
       "</table>\n",
       "</div>"
      ],
      "text/plain": [
       "                target\n",
       "relationship          \n",
       "0             0.551329\n",
       "1             0.898593\n",
       "2             0.965471\n",
       "3             0.985358\n",
       "4             0.939707\n",
       "5             0.531103"
      ]
     },
     "execution_count": 8,
     "metadata": {},
     "output_type": "execute_result"
    }
   ],
   "source": [
    "adult_data_frame[['relationship','target']].groupby(['relationship']).mean()"
   ]
  },
  {
   "cell_type": "markdown",
   "metadata": {},
   "source": [
    "Given the obvious difference between the Singles and Couples, we are going to alter the column so that we will only have the 'Single' and 'Couple' labels."
   ]
  },
  {
   "cell_type": "code",
   "execution_count": 9,
   "metadata": {},
   "outputs": [
    {
     "data": {
      "text/html": [
       "<div>\n",
       "<style scoped>\n",
       "    .dataframe tbody tr th:only-of-type {\n",
       "        vertical-align: middle;\n",
       "    }\n",
       "\n",
       "    .dataframe tbody tr th {\n",
       "        vertical-align: top;\n",
       "    }\n",
       "\n",
       "    .dataframe thead th {\n",
       "        text-align: right;\n",
       "    }\n",
       "</style>\n",
       "<table border=\"1\" class=\"dataframe\">\n",
       "  <thead>\n",
       "    <tr style=\"text-align: right;\">\n",
       "      <th></th>\n",
       "      <th>target</th>\n",
       "    </tr>\n",
       "    <tr>\n",
       "      <th>marital-status</th>\n",
       "      <th></th>\n",
       "    </tr>\n",
       "  </thead>\n",
       "  <tbody>\n",
       "    <tr>\n",
       "      <th>Couple</th>\n",
       "      <td>0.553979</td>\n",
       "    </tr>\n",
       "    <tr>\n",
       "      <th>Single</th>\n",
       "      <td>0.936086</td>\n",
       "    </tr>\n",
       "  </tbody>\n",
       "</table>\n",
       "</div>"
      ],
      "text/plain": [
       "                  target\n",
       "marital-status          \n",
       "Couple          0.553979\n",
       "Single          0.936086"
      ]
     },
     "execution_count": 9,
     "metadata": {},
     "output_type": "execute_result"
    }
   ],
   "source": [
    "adult_data_frame[['marital-status','target']].groupby(['marital-status']).mean()\n",
    "adult_data_frame['marital-status'] = adult_data_frame['marital-status'].replace([0,3,4,5,6],'Single')\n",
    "adult_data_frame['marital-status'] = adult_data_frame['marital-status'].replace([1,2],'Couple')\n",
    "adult_data_frame[['marital-status','target']].groupby(['marital-status']).mean()"
   ]
  },
  {
   "cell_type": "code",
   "execution_count": 10,
   "metadata": {},
   "outputs": [
    {
     "data": {
      "text/html": [
       "<div>\n",
       "<style scoped>\n",
       "    .dataframe tbody tr th:only-of-type {\n",
       "        vertical-align: middle;\n",
       "    }\n",
       "\n",
       "    .dataframe tbody tr th {\n",
       "        vertical-align: top;\n",
       "    }\n",
       "\n",
       "    .dataframe thead th {\n",
       "        text-align: right;\n",
       "    }\n",
       "</style>\n",
       "<table border=\"1\" class=\"dataframe\">\n",
       "  <thead>\n",
       "    <tr style=\"text-align: right;\">\n",
       "      <th></th>\n",
       "      <th></th>\n",
       "      <th>target</th>\n",
       "    </tr>\n",
       "    <tr>\n",
       "      <th>relationship</th>\n",
       "      <th>marital-status</th>\n",
       "      <th></th>\n",
       "    </tr>\n",
       "  </thead>\n",
       "  <tbody>\n",
       "    <tr>\n",
       "      <th>0</th>\n",
       "      <th>Couple</th>\n",
       "      <td>0.551329</td>\n",
       "    </tr>\n",
       "    <tr>\n",
       "      <th rowspan=\"2\" valign=\"top\">1</th>\n",
       "      <th>Couple</th>\n",
       "      <td>0.782609</td>\n",
       "    </tr>\n",
       "    <tr>\n",
       "      <th>Single</th>\n",
       "      <td>0.898806</td>\n",
       "    </tr>\n",
       "    <tr>\n",
       "      <th rowspan=\"2\" valign=\"top\">2</th>\n",
       "      <th>Couple</th>\n",
       "      <td>0.856436</td>\n",
       "    </tr>\n",
       "    <tr>\n",
       "      <th>Single</th>\n",
       "      <td>0.982362</td>\n",
       "    </tr>\n",
       "    <tr>\n",
       "      <th rowspan=\"2\" valign=\"top\">3</th>\n",
       "      <th>Couple</th>\n",
       "      <td>0.826389</td>\n",
       "    </tr>\n",
       "    <tr>\n",
       "      <th>Single</th>\n",
       "      <td>0.988436</td>\n",
       "    </tr>\n",
       "    <tr>\n",
       "      <th>4</th>\n",
       "      <th>Single</th>\n",
       "      <td>0.939707</td>\n",
       "    </tr>\n",
       "    <tr>\n",
       "      <th>5</th>\n",
       "      <th>Couple</th>\n",
       "      <td>0.531103</td>\n",
       "    </tr>\n",
       "  </tbody>\n",
       "</table>\n",
       "</div>"
      ],
      "text/plain": [
       "                               target\n",
       "relationship marital-status          \n",
       "0            Couple          0.551329\n",
       "1            Couple          0.782609\n",
       "             Single          0.898806\n",
       "2            Couple          0.856436\n",
       "             Single          0.982362\n",
       "3            Couple          0.826389\n",
       "             Single          0.988436\n",
       "4            Single          0.939707\n",
       "5            Couple          0.531103"
      ]
     },
     "execution_count": 10,
     "metadata": {},
     "output_type": "execute_result"
    }
   ],
   "source": [
    "adult_data_frame[['marital-status','relationship','target']].groupby(['relationship','marital-status']).mean()"
   ]
  },
  {
   "cell_type": "code",
   "execution_count": 11,
   "metadata": {},
   "outputs": [],
   "source": [
    "#Reverting the marital-status column back to a number.\n",
    "b, c = np.unique(adult_data_frame['marital-status'], return_inverse=True) \n",
    "adult_data_frame['marital-status'] = c"
   ]
  },
  {
   "cell_type": "code",
   "execution_count": 12,
   "metadata": {},
   "outputs": [
    {
     "name": "stdout",
     "output_type": "stream",
     "text": [
      "Train dataset: (27351, 13)(27351,)\n",
      "Validation dataset: (6838, 13)(6838,)\n",
      "Test dataset: (14653, 13)(14653,)\n"
     ]
    }
   ],
   "source": [
    "X= adult_data_frame.drop(['target'],axis=1)\n",
    "y= adult_data_frame['target']\n",
    "\n",
    "#Creation of Train and Test dataset\n",
    "X_train, X_test, y_train, y_test = train_test_split(X,y,test_size=0.3,random_state=22)\n",
    "\n",
    "#Creation of Train and validation dataset\n",
    "X_train, X_val, y_train, y_val = train_test_split(X_train,y_train,test_size=0.2,random_state=5)\n",
    "\n",
    "print (\"Train dataset: {0}{1}\".format(X_train.shape, y_train.shape))\n",
    "print (\"Validation dataset: {0}{1}\".format(X_val.shape, y_val.shape))\n",
    "print (\"Test dataset: {0}{1}\".format(X_test.shape, y_test.shape))"
   ]
  },
  {
   "cell_type": "code",
   "execution_count": 13,
   "metadata": {},
   "outputs": [
    {
     "data": {
      "text/html": [
       "<div>\n",
       "<style scoped>\n",
       "    .dataframe tbody tr th:only-of-type {\n",
       "        vertical-align: middle;\n",
       "    }\n",
       "\n",
       "    .dataframe tbody tr th {\n",
       "        vertical-align: top;\n",
       "    }\n",
       "\n",
       "    .dataframe thead th {\n",
       "        text-align: right;\n",
       "    }\n",
       "</style>\n",
       "<table border=\"1\" class=\"dataframe\">\n",
       "  <thead>\n",
       "    <tr style=\"text-align: right;\">\n",
       "      <th>target</th>\n",
       "      <th>0</th>\n",
       "      <th>1</th>\n",
       "    </tr>\n",
       "    <tr>\n",
       "      <th>education</th>\n",
       "      <th></th>\n",
       "      <th></th>\n",
       "    </tr>\n",
       "  </thead>\n",
       "  <tbody>\n",
       "    <tr>\n",
       "      <th>0</th>\n",
       "      <td>47</td>\n",
       "      <td>702</td>\n",
       "    </tr>\n",
       "    <tr>\n",
       "      <th>1</th>\n",
       "      <td>50</td>\n",
       "      <td>997</td>\n",
       "    </tr>\n",
       "    <tr>\n",
       "      <th>2</th>\n",
       "      <td>32</td>\n",
       "      <td>350</td>\n",
       "    </tr>\n",
       "    <tr>\n",
       "      <th>3</th>\n",
       "      <td>5</td>\n",
       "      <td>128</td>\n",
       "    </tr>\n",
       "    <tr>\n",
       "      <th>4</th>\n",
       "      <td>14</td>\n",
       "      <td>274</td>\n",
       "    </tr>\n",
       "    <tr>\n",
       "      <th>5</th>\n",
       "      <td>38</td>\n",
       "      <td>516</td>\n",
       "    </tr>\n",
       "    <tr>\n",
       "      <th>6</th>\n",
       "      <td>26</td>\n",
       "      <td>406</td>\n",
       "    </tr>\n",
       "    <tr>\n",
       "      <th>7</th>\n",
       "      <td>223</td>\n",
       "      <td>660</td>\n",
       "    </tr>\n",
       "    <tr>\n",
       "      <th>8</th>\n",
       "      <td>279</td>\n",
       "      <td>874</td>\n",
       "    </tr>\n",
       "    <tr>\n",
       "      <th>9</th>\n",
       "      <td>1876</td>\n",
       "      <td>2652</td>\n",
       "    </tr>\n",
       "    <tr>\n",
       "      <th>10</th>\n",
       "      <td>225</td>\n",
       "      <td>97</td>\n",
       "    </tr>\n",
       "    <tr>\n",
       "      <th>11</th>\n",
       "      <td>1417</td>\n",
       "      <td>7450</td>\n",
       "    </tr>\n",
       "    <tr>\n",
       "      <th>12</th>\n",
       "      <td>769</td>\n",
       "      <td>674</td>\n",
       "    </tr>\n",
       "    <tr>\n",
       "      <th>13</th>\n",
       "      <td>0</td>\n",
       "      <td>44</td>\n",
       "    </tr>\n",
       "    <tr>\n",
       "      <th>14</th>\n",
       "      <td>354</td>\n",
       "      <td>121</td>\n",
       "    </tr>\n",
       "    <tr>\n",
       "      <th>15</th>\n",
       "      <td>1130</td>\n",
       "      <td>4921</td>\n",
       "    </tr>\n",
       "  </tbody>\n",
       "</table>\n",
       "</div>"
      ],
      "text/plain": [
       "target        0     1\n",
       "education            \n",
       "0            47   702\n",
       "1            50   997\n",
       "2            32   350\n",
       "3             5   128\n",
       "4            14   274\n",
       "5            38   516\n",
       "6            26   406\n",
       "7           223   660\n",
       "8           279   874\n",
       "9          1876  2652\n",
       "10          225    97\n",
       "11         1417  7450\n",
       "12          769   674\n",
       "13            0    44\n",
       "14          354   121\n",
       "15         1130  4921"
      ]
     },
     "execution_count": 13,
     "metadata": {},
     "output_type": "execute_result"
    }
   ],
   "source": [
    "# import pandas as pd\n",
    "# pd.crosstab(X_train['education'],y_train )"
   ]
  },
  {
   "cell_type": "code",
   "execution_count": 14,
   "metadata": {},
   "outputs": [
    {
     "data": {
      "text/html": [
       "<div>\n",
       "<style scoped>\n",
       "    .dataframe tbody tr th:only-of-type {\n",
       "        vertical-align: middle;\n",
       "    }\n",
       "\n",
       "    .dataframe tbody tr th {\n",
       "        vertical-align: top;\n",
       "    }\n",
       "\n",
       "    .dataframe thead th {\n",
       "        text-align: right;\n",
       "    }\n",
       "</style>\n",
       "<table border=\"1\" class=\"dataframe\">\n",
       "  <thead>\n",
       "    <tr style=\"text-align: right;\">\n",
       "      <th></th>\n",
       "      <th>target</th>\n",
       "    </tr>\n",
       "    <tr>\n",
       "      <th>workclass</th>\n",
       "      <th></th>\n",
       "    </tr>\n",
       "  </thead>\n",
       "  <tbody>\n",
       "    <tr>\n",
       "      <th>0</th>\n",
       "      <td>2534</td>\n",
       "    </tr>\n",
       "    <tr>\n",
       "      <th>1</th>\n",
       "      <td>871</td>\n",
       "    </tr>\n",
       "    <tr>\n",
       "      <th>2</th>\n",
       "      <td>2209</td>\n",
       "    </tr>\n",
       "    <tr>\n",
       "      <th>3</th>\n",
       "      <td>10</td>\n",
       "    </tr>\n",
       "    <tr>\n",
       "      <th>4</th>\n",
       "      <td>26519</td>\n",
       "    </tr>\n",
       "    <tr>\n",
       "      <th>5</th>\n",
       "      <td>757</td>\n",
       "    </tr>\n",
       "    <tr>\n",
       "      <th>6</th>\n",
       "      <td>2785</td>\n",
       "    </tr>\n",
       "    <tr>\n",
       "      <th>7</th>\n",
       "      <td>1451</td>\n",
       "    </tr>\n",
       "    <tr>\n",
       "      <th>8</th>\n",
       "      <td>19</td>\n",
       "    </tr>\n",
       "  </tbody>\n",
       "</table>\n",
       "</div>"
      ],
      "text/plain": [
       "           target\n",
       "workclass        \n",
       "0            2534\n",
       "1             871\n",
       "2            2209\n",
       "3              10\n",
       "4           26519\n",
       "5             757\n",
       "6            2785\n",
       "7            1451\n",
       "8              19"
      ]
     },
     "execution_count": 14,
     "metadata": {},
     "output_type": "execute_result"
    }
   ],
   "source": [
    "# adult_data_frame[['workclass','target']].groupby(['workclass']).sum()"
   ]
  },
  {
   "cell_type": "markdown",
   "metadata": {},
   "source": [
    "## Predictions\n",
    "In making the predictions we are going to use multiple algorithms and try to identify the best one. \n",
    "Algorithms used are:\n",
    "1. Random Forest Trees\n",
    "2. Logistic Regression\n",
    "3. Support Vector Machine "
   ]
  },
  {
   "cell_type": "markdown",
   "metadata": {},
   "source": [
    "### 1. Random Forest Trees"
   ]
  },
  {
   "cell_type": "code",
   "execution_count": 21,
   "metadata": {},
   "outputs": [],
   "source": [
    "def RandomForestTrees(adult_data, adult_labels):\n",
    "    tree_count = 10\n",
    "    bag_proportion = 0.6\n",
    "    predictions = []\n",
    "\n",
    "    train_data, test_data, train_labels, test_labels = train_test_split(adult_data, adult_labels, test_size=0.2,\n",
    "                                                                        random_state=random.randint(1, 99))\n",
    "    \n",
    "    #Scaling the data\n",
    "    qt = QuantileTransformer(output_distribution='uniform')\n",
    "    train_data = qt.fit_transform(train_data)\n",
    "    test_data = qt.transform(test_data)\n",
    "\n",
    "    for i in range(tree_count):\n",
    "        # bag = train_data.sample(frac=bag_proportion, replace=True, random_state=i)\n",
    "        X_train, X_test = train_data, test_data\n",
    "        y_train, y_test = train_labels, test_labels\n",
    "        clf = DecisionTreeClassifier(random_state=1, min_samples_leaf=75)\n",
    "        clf.fit(X_train, y_train)\n",
    "        predictions.append(clf.predict_proba(X_test)[:, 1])\n",
    "\n",
    "    combined = np.sum(predictions, axis=0) / 10\n",
    "    rounded = np.round(combined)\n",
    "\n",
    "    print('Accuracy:', accuracy_score(rounded, y_test))\n",
    "    print('F1 score:', f1_score(rounded, y_test))"
   ]
  },
  {
   "cell_type": "code",
   "execution_count": 22,
   "metadata": {},
   "outputs": [
    {
     "name": "stdout",
     "output_type": "stream",
     "text": [
      "Accuracy: 0.8602722898966118\n",
      "F1 score: 0.910999543587403\n"
     ]
    }
   ],
   "source": [
    "RandomForestTrees(X, y)"
   ]
  },
  {
   "cell_type": "markdown",
   "metadata": {},
   "source": [
    "### 2. Support Vector Machines"
   ]
  },
  {
   "cell_type": "code",
   "execution_count": 26,
   "metadata": {},
   "outputs": [
    {
     "name": "stdout",
     "output_type": "stream",
     "text": [
      "Accuracy: 0.8324291124987204\n",
      "F1 score: 0.891754281557892\n"
     ]
    },
    {
     "name": "stderr",
     "output_type": "stream",
     "text": [
      "c:\\users\\rares\\pycharmprojects\\penn-ml-library-project\\venv\\lib\\site-packages\\sklearn\\svm\\base.py:196: FutureWarning: The default value of gamma will change from 'auto' to 'scale' in version 0.22 to account better for unscaled features. Set gamma explicitly to 'auto' or 'scale' to avoid this warning.\n",
      "  \"avoid this warning.\", FutureWarning)\n"
     ]
    },
    {
     "name": "stdout",
     "output_type": "stream",
     "text": [
      "Accuracy: 0.8344764049544477\n",
      "F1 score: 0.8945961801707841\n"
     ]
    },
    {
     "name": "stderr",
     "output_type": "stream",
     "text": [
      "c:\\users\\rares\\pycharmprojects\\penn-ml-library-project\\venv\\lib\\site-packages\\sklearn\\svm\\base.py:196: FutureWarning: The default value of gamma will change from 'auto' to 'scale' in version 0.22 to account better for unscaled features. Set gamma explicitly to 'auto' or 'scale' to avoid this warning.\n",
      "  \"avoid this warning.\", FutureWarning)\n"
     ]
    },
    {
     "name": "stdout",
     "output_type": "stream",
     "text": [
      "Accuracy: 0.8298699969290613\n",
      "F1 score: 0.890557092058475\n"
     ]
    },
    {
     "name": "stderr",
     "output_type": "stream",
     "text": [
      "c:\\users\\rares\\pycharmprojects\\penn-ml-library-project\\venv\\lib\\site-packages\\sklearn\\svm\\base.py:196: FutureWarning: The default value of gamma will change from 'auto' to 'scale' in version 0.22 to account better for unscaled features. Set gamma explicitly to 'auto' or 'scale' to avoid this warning.\n",
      "  \"avoid this warning.\", FutureWarning)\n"
     ]
    },
    {
     "name": "stdout",
     "output_type": "stream",
     "text": [
      "Accuracy: 0.8295629030607022\n",
      "F1 score: 0.8903956289908499\n"
     ]
    }
   ],
   "source": [
    "def supportVectorMachine(adult_data, adult_labels):\n",
    "\n",
    "    #Split Data\n",
    "    train_data, test_data, train_labels, test_labels = train_test_split(adult_data, adult_labels, test_size=0.2,\n",
    "                                                                        random_state=random.randint(1, 99))\n",
    "\n",
    "    # Preprocess Data\n",
    "    # This Scaler is used according to the results obtained in DataScalaionComparison for Logistical Regression\n",
    "    qt = QuantileTransformer(output_distribution='uniform')\n",
    "    train_data = qt.fit_transform(train_data)\n",
    "    test_data = qt.transform(test_data)\n",
    "\n",
    "    #Fit Machine\n",
    "    LSVC = SVC(kernel='linear', random_state=0, tol=1e-5, C=0.1)\n",
    "    LSVC.fit(train_data, train_labels)\n",
    "    LSVC_prediction = LSVC.predict(test_data)\n",
    "\n",
    "    rounded = np.round(LSVC_prediction)\n",
    "\n",
    "    print('Accuracy:', accuracy_score(rounded, test_labels))\n",
    "    print('F1 score:', f1_score(rounded, test_labels))\n",
    "\n",
    "    PolySVM = SVC(kernel='poly')\n",
    "    PolySVM.fit(train_data, train_labels)\n",
    "    PolySVM_prediction = PolySVM.predict(test_data)\n",
    "    \n",
    "    rounded = np.round(PolySVM_prediction)\n",
    "\n",
    "    print('Accuracy:', accuracy_score(rounded, test_labels))\n",
    "    print('F1 score:', f1_score(rounded, test_labels))\n",
    "\n",
    "    RBFSVM = SVC(kernel='rbf', C = 1, tol = 1e-3)\n",
    "    RBFSVM.fit(train_data, train_labels)\n",
    "    RBFSVM_prediction = RBFSVM.predict(test_data)\n",
    "    \n",
    "    rounded = np.round(RBFSVM_prediction)\n",
    "\n",
    "    print('Accuracy:', accuracy_score(rounded, test_labels))\n",
    "    print('F1 score:', f1_score(rounded, test_labels))\n",
    "\n",
    "    SigmoidSVM = SVC(kernel='sigmoid')\n",
    "    SigmoidSVM.fit(train_data, train_labels)\n",
    "    SigmoidSVM_prediction = SigmoidSVM.predict(test_data)\n",
    "    \n",
    "    rounded = np.round(SigmoidSVM_prediction)\n",
    "\n",
    "    print('Accuracy:', accuracy_score(rounded, test_labels))\n",
    "    print('F1 score:', f1_score(rounded, test_labels))\n",
    "\n",
    "supportVectorMachine(X, y)"
   ]
  },
  {
   "cell_type": "markdown",
   "metadata": {},
   "source": [
    "### 3. Logistical Regression"
   ]
  },
  {
   "cell_type": "code",
   "execution_count": 29,
   "metadata": {},
   "outputs": [
    {
     "name": "stdout",
     "output_type": "stream",
     "text": [
      "Accuracy: 0.8320196540075749\n",
      "F1 score: 0.8927380874566966\n"
     ]
    }
   ],
   "source": [
    "def logReg(adult_data, adult_labels):\n",
    "\n",
    "    #Split Data\n",
    "    train_data, test_data, train_labels, test_labels = train_test_split(adult_data, adult_labels, test_size=0.2,\n",
    "                                                                        random_state=random.randint(1, 99))\n",
    "\n",
    "    # Preprocess Data\n",
    "    # This Scaler is used according to the results obtained in DataScalaionComparison for Logistical Regression\n",
    "    qt = QuantileTransformer(output_distribution='uniform')\n",
    "    train_data = qt.fit_transform(train_data)\n",
    "    test_data = qt.transform(test_data)\n",
    "\n",
    "    #Fit Machine\n",
    "    logreg = LogisticRegression(C = 0.1, max_iter= 1000, penalty= \"l1\", solver=\"saga\")\n",
    "    logreg.fit(train_data, train_labels)\n",
    "\n",
    "    # Best Parameters\n",
    "    # Used Grid Search CV to find the best hyper-parameters to tune Logistical Regression machine.\n",
    "    # Winning combination: {'C': 0.1, 'max_iter': 1000, 'penalty': 'l1', 'solver': 'saga'}\n",
    "    # Gained around 0.8-1 % accuracy\n",
    "\n",
    "    # grid = {\"C\": np.logspace(-3, 3, 7), \"penalty\": [\"l1\"], \"solver\": [\"saga\"], \"max_iter\": [100, 1000, 10000, 100000]}  # l1 lasso l2 ridge\n",
    "    # logreg_cv = GridSearchCV(logreg, grid, cv=5)\n",
    "    # logreg_cv.fit(train_data, train_labels)\n",
    "\n",
    "    # print(\"tuned hpyerparameters :(best parameters) \", logreg_cv.best_params_)\n",
    "    # print(\"accuracy :\", logreg_cv.best_score_)\n",
    "    # print(logreg_cv.cv_results_)\n",
    "\n",
    "    #Predict\n",
    "    logreg_prediction = logreg.predict(test_data)\n",
    "    \n",
    "    rounded = np.round(logreg_prediction)\n",
    "\n",
    "    print('Accuracy:', accuracy_score(rounded, test_labels))\n",
    "    print('F1 score:', f1_score(rounded, test_labels))\n",
    "logReg(X, y)\n",
    "\n",
    "#     return np.count_nonzero(np.equal(test_labels, logreg_prediction)) * 100 / logreg_prediction.size"
   ]
  },
  {
   "cell_type": "code",
   "execution_count": null,
   "metadata": {},
   "outputs": [],
   "source": []
  }
 ],
 "metadata": {
  "celltoolbar": "Slideshow",
  "kernelspec": {
   "display_name": "Python 3",
   "language": "python",
   "name": "python3"
  },
  "language_info": {
   "codemirror_mode": {
    "name": "ipython",
    "version": 3
   },
   "file_extension": ".py",
   "mimetype": "text/x-python",
   "name": "python",
   "nbconvert_exporter": "python",
   "pygments_lexer": "ipython3",
   "version": "3.7.2"
  }
 },
 "nbformat": 4,
 "nbformat_minor": 2
}
